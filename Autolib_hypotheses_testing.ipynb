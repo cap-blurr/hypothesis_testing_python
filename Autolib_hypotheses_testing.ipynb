{
 "cells": [
  {
   "cell_type": "markdown",
   "metadata": {},
   "source": [
    "## Problem Statement\n",
    "### The problem that I am trying to solve is whether the bluecars taken in month 5 are greater than the bluecars taken in month 1\n",
    "### I am tasked with veryfing a hypothesis from the autolib car sharing service about their electric blue cars from the above problem.\n",
    "### This hypothesis would help the company know whether demand for the bluecars is increasing and thus act in informing a decision on whether to increase the bluecar fleet.\n",
    "\n",
    "### H0:There is no difference in blucar usage between month 1 and month 5\n",
    "### H1:There is a clear increase in bluecar usage in month 5 as compared to month 1"
   ]
  },
  {
   "cell_type": "markdown",
   "metadata": {},
   "source": [
    "#### step one: Previewing and cleaning the data"
   ]
  },
  {
   "cell_type": "code",
   "execution_count": 95,
   "metadata": {},
   "outputs": [],
   "source": [
    "#importing relevant libraries\n",
    "import pandas as pd\n",
    "import seaborn as sns\n",
    "import matplotlib.pyplot as plt\n",
    "import pandas_profiling\n",
    "from scipy import stats"
   ]
  },
  {
   "cell_type": "code",
   "execution_count": 96,
   "metadata": {},
   "outputs": [
    {
     "data": {
      "text/html": [
       "<div>\n",
       "<style scoped>\n",
       "    .dataframe tbody tr th:only-of-type {\n",
       "        vertical-align: middle;\n",
       "    }\n",
       "\n",
       "    .dataframe tbody tr th {\n",
       "        vertical-align: top;\n",
       "    }\n",
       "\n",
       "    .dataframe thead th {\n",
       "        text-align: right;\n",
       "    }\n",
       "</style>\n",
       "<table border=\"1\" class=\"dataframe\">\n",
       "  <thead>\n",
       "    <tr style=\"text-align: right;\">\n",
       "      <th></th>\n",
       "      <th>Postal code</th>\n",
       "      <th>date</th>\n",
       "      <th>n_daily_data_points</th>\n",
       "      <th>dayOfWeek</th>\n",
       "      <th>day_type</th>\n",
       "      <th>BlueCars_taken_sum</th>\n",
       "      <th>BlueCars_returned_sum</th>\n",
       "      <th>Utilib_taken_sum</th>\n",
       "      <th>Utilib_returned_sum</th>\n",
       "      <th>Utilib_14_taken_sum</th>\n",
       "      <th>Utilib_14_returned_sum</th>\n",
       "      <th>Slots_freed_sum</th>\n",
       "      <th>Slots_taken_sum</th>\n",
       "    </tr>\n",
       "  </thead>\n",
       "  <tbody>\n",
       "    <tr>\n",
       "      <th>0</th>\n",
       "      <td>75001</td>\n",
       "      <td>1/1/2018</td>\n",
       "      <td>1440</td>\n",
       "      <td>0</td>\n",
       "      <td>weekday</td>\n",
       "      <td>110</td>\n",
       "      <td>103</td>\n",
       "      <td>3</td>\n",
       "      <td>2</td>\n",
       "      <td>10</td>\n",
       "      <td>9</td>\n",
       "      <td>22</td>\n",
       "      <td>20</td>\n",
       "    </tr>\n",
       "    <tr>\n",
       "      <th>1</th>\n",
       "      <td>75001</td>\n",
       "      <td>1/2/2018</td>\n",
       "      <td>1438</td>\n",
       "      <td>1</td>\n",
       "      <td>weekday</td>\n",
       "      <td>98</td>\n",
       "      <td>94</td>\n",
       "      <td>1</td>\n",
       "      <td>1</td>\n",
       "      <td>8</td>\n",
       "      <td>8</td>\n",
       "      <td>23</td>\n",
       "      <td>22</td>\n",
       "    </tr>\n",
       "    <tr>\n",
       "      <th>2</th>\n",
       "      <td>75001</td>\n",
       "      <td>1/3/2018</td>\n",
       "      <td>1439</td>\n",
       "      <td>2</td>\n",
       "      <td>weekday</td>\n",
       "      <td>138</td>\n",
       "      <td>139</td>\n",
       "      <td>0</td>\n",
       "      <td>0</td>\n",
       "      <td>2</td>\n",
       "      <td>2</td>\n",
       "      <td>27</td>\n",
       "      <td>27</td>\n",
       "    </tr>\n",
       "    <tr>\n",
       "      <th>3</th>\n",
       "      <td>75001</td>\n",
       "      <td>1/4/2018</td>\n",
       "      <td>1320</td>\n",
       "      <td>3</td>\n",
       "      <td>weekday</td>\n",
       "      <td>104</td>\n",
       "      <td>104</td>\n",
       "      <td>2</td>\n",
       "      <td>2</td>\n",
       "      <td>9</td>\n",
       "      <td>8</td>\n",
       "      <td>25</td>\n",
       "      <td>21</td>\n",
       "    </tr>\n",
       "    <tr>\n",
       "      <th>4</th>\n",
       "      <td>75001</td>\n",
       "      <td>1/5/2018</td>\n",
       "      <td>1440</td>\n",
       "      <td>4</td>\n",
       "      <td>weekday</td>\n",
       "      <td>114</td>\n",
       "      <td>117</td>\n",
       "      <td>3</td>\n",
       "      <td>3</td>\n",
       "      <td>6</td>\n",
       "      <td>6</td>\n",
       "      <td>18</td>\n",
       "      <td>20</td>\n",
       "    </tr>\n",
       "    <tr>\n",
       "      <th>...</th>\n",
       "      <td>...</td>\n",
       "      <td>...</td>\n",
       "      <td>...</td>\n",
       "      <td>...</td>\n",
       "      <td>...</td>\n",
       "      <td>...</td>\n",
       "      <td>...</td>\n",
       "      <td>...</td>\n",
       "      <td>...</td>\n",
       "      <td>...</td>\n",
       "      <td>...</td>\n",
       "      <td>...</td>\n",
       "      <td>...</td>\n",
       "    </tr>\n",
       "    <tr>\n",
       "      <th>16080</th>\n",
       "      <td>95880</td>\n",
       "      <td>6/15/2018</td>\n",
       "      <td>1440</td>\n",
       "      <td>4</td>\n",
       "      <td>weekday</td>\n",
       "      <td>15</td>\n",
       "      <td>10</td>\n",
       "      <td>0</td>\n",
       "      <td>0</td>\n",
       "      <td>2</td>\n",
       "      <td>3</td>\n",
       "      <td>0</td>\n",
       "      <td>0</td>\n",
       "    </tr>\n",
       "    <tr>\n",
       "      <th>16081</th>\n",
       "      <td>95880</td>\n",
       "      <td>6/16/2018</td>\n",
       "      <td>1440</td>\n",
       "      <td>5</td>\n",
       "      <td>weekend</td>\n",
       "      <td>19</td>\n",
       "      <td>19</td>\n",
       "      <td>0</td>\n",
       "      <td>0</td>\n",
       "      <td>2</td>\n",
       "      <td>1</td>\n",
       "      <td>0</td>\n",
       "      <td>0</td>\n",
       "    </tr>\n",
       "    <tr>\n",
       "      <th>16082</th>\n",
       "      <td>95880</td>\n",
       "      <td>6/17/2018</td>\n",
       "      <td>1440</td>\n",
       "      <td>6</td>\n",
       "      <td>weekend</td>\n",
       "      <td>33</td>\n",
       "      <td>35</td>\n",
       "      <td>1</td>\n",
       "      <td>1</td>\n",
       "      <td>0</td>\n",
       "      <td>0</td>\n",
       "      <td>0</td>\n",
       "      <td>0</td>\n",
       "    </tr>\n",
       "    <tr>\n",
       "      <th>16083</th>\n",
       "      <td>95880</td>\n",
       "      <td>6/18/2018</td>\n",
       "      <td>1440</td>\n",
       "      <td>0</td>\n",
       "      <td>weekday</td>\n",
       "      <td>11</td>\n",
       "      <td>14</td>\n",
       "      <td>3</td>\n",
       "      <td>5</td>\n",
       "      <td>2</td>\n",
       "      <td>2</td>\n",
       "      <td>0</td>\n",
       "      <td>0</td>\n",
       "    </tr>\n",
       "    <tr>\n",
       "      <th>16084</th>\n",
       "      <td>95880</td>\n",
       "      <td>6/19/2018</td>\n",
       "      <td>1370</td>\n",
       "      <td>1</td>\n",
       "      <td>weekday</td>\n",
       "      <td>2</td>\n",
       "      <td>2</td>\n",
       "      <td>2</td>\n",
       "      <td>1</td>\n",
       "      <td>0</td>\n",
       "      <td>0</td>\n",
       "      <td>0</td>\n",
       "      <td>0</td>\n",
       "    </tr>\n",
       "  </tbody>\n",
       "</table>\n",
       "<p>16085 rows × 13 columns</p>\n",
       "</div>"
      ],
      "text/plain": [
       "       Postal code       date  n_daily_data_points  dayOfWeek day_type  \\\n",
       "0            75001   1/1/2018                 1440          0  weekday   \n",
       "1            75001   1/2/2018                 1438          1  weekday   \n",
       "2            75001   1/3/2018                 1439          2  weekday   \n",
       "3            75001   1/4/2018                 1320          3  weekday   \n",
       "4            75001   1/5/2018                 1440          4  weekday   \n",
       "...            ...        ...                  ...        ...      ...   \n",
       "16080        95880  6/15/2018                 1440          4  weekday   \n",
       "16081        95880  6/16/2018                 1440          5  weekend   \n",
       "16082        95880  6/17/2018                 1440          6  weekend   \n",
       "16083        95880  6/18/2018                 1440          0  weekday   \n",
       "16084        95880  6/19/2018                 1370          1  weekday   \n",
       "\n",
       "       BlueCars_taken_sum  BlueCars_returned_sum  Utilib_taken_sum  \\\n",
       "0                     110                    103                 3   \n",
       "1                      98                     94                 1   \n",
       "2                     138                    139                 0   \n",
       "3                     104                    104                 2   \n",
       "4                     114                    117                 3   \n",
       "...                   ...                    ...               ...   \n",
       "16080                  15                     10                 0   \n",
       "16081                  19                     19                 0   \n",
       "16082                  33                     35                 1   \n",
       "16083                  11                     14                 3   \n",
       "16084                   2                      2                 2   \n",
       "\n",
       "       Utilib_returned_sum  Utilib_14_taken_sum  Utilib_14_returned_sum  \\\n",
       "0                        2                   10                       9   \n",
       "1                        1                    8                       8   \n",
       "2                        0                    2                       2   \n",
       "3                        2                    9                       8   \n",
       "4                        3                    6                       6   \n",
       "...                    ...                  ...                     ...   \n",
       "16080                    0                    2                       3   \n",
       "16081                    0                    2                       1   \n",
       "16082                    1                    0                       0   \n",
       "16083                    5                    2                       2   \n",
       "16084                    1                    0                       0   \n",
       "\n",
       "       Slots_freed_sum  Slots_taken_sum  \n",
       "0                   22               20  \n",
       "1                   23               22  \n",
       "2                   27               27  \n",
       "3                   25               21  \n",
       "4                   18               20  \n",
       "...                ...              ...  \n",
       "16080                0                0  \n",
       "16081                0                0  \n",
       "16082                0                0  \n",
       "16083                0                0  \n",
       "16084                0                0  \n",
       "\n",
       "[16085 rows x 13 columns]"
      ]
     },
     "execution_count": 96,
     "metadata": {},
     "output_type": "execute_result"
    }
   ],
   "source": [
    "#importing the dataset\n",
    "df = pd.read_csv('autolib_daily_events_postal_code.csv')\n",
    "df"
   ]
  },
  {
   "cell_type": "code",
   "execution_count": 97,
   "metadata": {},
   "outputs": [
    {
     "data": {
      "text/plain": [
       "(16085, 13)"
      ]
     },
     "execution_count": 97,
     "metadata": {},
     "output_type": "execute_result"
    }
   ],
   "source": [
    "df.shape"
   ]
  },
  {
   "cell_type": "markdown",
   "metadata": {},
   "source": [
    "#### The dataset has 16085 rows and 13 columns"
   ]
  },
  {
   "cell_type": "markdown",
   "metadata": {},
   "source": [
    "#### checking the unique dates in the autolib dataframe"
   ]
  },
  {
   "cell_type": "code",
   "execution_count": 99,
   "metadata": {},
   "outputs": [
    {
     "data": {
      "text/plain": [
       "array(['1/1/2018', '1/2/2018', '1/3/2018', '1/4/2018', '1/5/2018',\n",
       "       '1/6/2018', '1/7/2018', '1/8/2018', '1/9/2018', '1/10/2018',\n",
       "       '1/11/2018', '1/12/2018', '1/13/2018', '1/14/2018', '1/15/2018',\n",
       "       '1/16/2018', '1/17/2018', '1/18/2018', '1/19/2018', '1/20/2018',\n",
       "       '1/21/2018', '1/22/2018', '1/23/2018', '1/24/2018', '1/25/2018',\n",
       "       '1/26/2018', '1/27/2018', '1/28/2018', '1/29/2018', '1/30/2018',\n",
       "       '1/31/2018', '2/1/2018', '2/2/2018', '2/3/2018', '2/4/2018',\n",
       "       '2/5/2018', '2/6/2018', '2/7/2018', '2/8/2018', '2/9/2018',\n",
       "       '2/10/2018', '2/11/2018', '2/12/2018', '2/13/2018', '2/14/2018',\n",
       "       '2/15/2018', '2/16/2018', '2/17/2018', '2/18/2018', '2/19/2018',\n",
       "       '2/20/2018', '2/21/2018', '2/22/2018', '2/23/2018', '2/24/2018',\n",
       "       '2/28/2018', '3/1/2018', '3/2/2018', '3/3/2018', '3/4/2018',\n",
       "       '3/5/2018', '3/6/2018', '3/7/2018', '3/8/2018', '3/9/2018',\n",
       "       '3/10/2018', '3/11/2018', '3/12/2018', '3/13/2018', '3/14/2018',\n",
       "       '3/15/2018', '3/16/2018', '3/17/2018', '3/18/2018', '3/19/2018',\n",
       "       '3/20/2018', '3/21/2018', '3/22/2018', '3/23/2018', '3/24/2018',\n",
       "       '3/25/2018', '3/26/2018', '3/27/2018', '3/28/2018', '3/29/2018',\n",
       "       '3/30/2018', '3/31/2018', '4/1/2018', '4/2/2018', '4/3/2018',\n",
       "       '4/4/2018', '4/5/2018', '4/6/2018', '4/7/2018', '4/8/2018',\n",
       "       '4/9/2018', '4/10/2018', '4/11/2018', '4/12/2018', '4/13/2018',\n",
       "       '4/14/2018', '4/15/2018', '4/16/2018', '4/17/2018', '4/18/2018',\n",
       "       '4/19/2018', '4/20/2018', '4/21/2018', '4/22/2018', '4/23/2018',\n",
       "       '4/24/2018', '4/25/2018', '4/26/2018', '4/27/2018', '4/28/2018',\n",
       "       '4/29/2018', '4/30/2018', '5/1/2018', '5/2/2018', '5/3/2018',\n",
       "       '5/4/2018', '5/5/2018', '5/6/2018', '5/7/2018', '5/8/2018',\n",
       "       '5/20/2018', '5/21/2018', '5/22/2018', '5/23/2018', '5/24/2018',\n",
       "       '5/25/2018', '5/26/2018', '5/27/2018', '5/28/2018', '5/29/2018',\n",
       "       '5/30/2018', '5/31/2018', '6/1/2018', '6/2/2018', '6/3/2018',\n",
       "       '6/4/2018', '6/5/2018', '6/6/2018', '6/7/2018', '6/8/2018',\n",
       "       '6/9/2018', '6/10/2018', '6/11/2018', '6/12/2018', '6/13/2018',\n",
       "       '6/14/2018', '6/15/2018', '6/16/2018', '6/17/2018', '6/18/2018',\n",
       "       '6/19/2018'], dtype=object)"
      ]
     },
     "execution_count": 99,
     "metadata": {},
     "output_type": "execute_result"
    }
   ],
   "source": [
    "df.date.unique()"
   ]
  },
  {
   "cell_type": "markdown",
   "metadata": {},
   "source": [
    "#### From the above data I can tell that the data only runs until the sixth month of the year and that on data on the 6th month is incomplete"
   ]
  },
  {
   "cell_type": "markdown",
   "metadata": {},
   "source": [
    "#### Inorder to select the specific months I will be working with I will need to access the datetime column but it is in string format.\n",
    "\n",
    "#### I will first need to change it to the datetime format to access the 1st and 5th months and create 2 new datafames each month in a different dataframe, I will change it back to string format later as I will not be doing any operation on the dates during this analysis\n",
    "\n",
    "#### note that I am only using the weekdays and not the weekends in the analysis"
   ]
  },
  {
   "cell_type": "code",
   "execution_count": 100,
   "metadata": {},
   "outputs": [],
   "source": [
    "#converting the date column datatype to datetime \n",
    "df['date'] = pd.to_datetime(df['date'])"
   ]
  },
  {
   "cell_type": "code",
   "execution_count": 174,
   "metadata": {},
   "outputs": [
    {
     "data": {
      "text/plain": [
       "(2369, 13)"
      ]
     },
     "execution_count": 174,
     "metadata": {},
     "output_type": "execute_result"
    }
   ],
   "source": [
    "#creating month 1 dataframe \n",
    "january = df[(df.date >= '1/1/2018')& (df.date <= '1/31/2018') & (df.day_type == 'weekday')]\n",
    "january.shape"
   ]
  },
  {
   "cell_type": "code",
   "execution_count": 173,
   "metadata": {},
   "outputs": [
    {
     "data": {
      "text/plain": [
       "(1558, 13)"
      ]
     },
     "execution_count": 173,
     "metadata": {},
     "output_type": "execute_result"
    }
   ],
   "source": [
    "#creating month 3 dataframe\n",
    "may = df[(df.date >= '5/1/2018')& (df.date <= '5/31/2018') & (df.day_type == 'weekday')]\n",
    "may.shape"
   ]
  },
  {
   "cell_type": "code",
   "execution_count": 176,
   "metadata": {},
   "outputs": [],
   "source": [
    "#reconverting the date column datatype back to str\n",
    "may.date = may.date.apply(str)"
   ]
  },
  {
   "cell_type": "code",
   "execution_count": 104,
   "metadata": {},
   "outputs": [],
   "source": [
    "january.date = january.date.apply(str)"
   ]
  },
  {
   "cell_type": "markdown",
   "metadata": {},
   "source": [
    "#### I will then remove any outliers that might affect the final calculation \n",
    "\n",
    "#### NB: I discovered that running the outlier algorithm a second or third time resulted in more outliers being removed improving on the overall quality of the data,thus I ran it 5 times for each dataframe to get a more coherent dataset"
   ]
  },
  {
   "cell_type": "code",
   "execution_count": 128,
   "metadata": {},
   "outputs": [
    {
     "data": {
      "text/plain": [
       "(744, 13)"
      ]
     },
     "execution_count": 128,
     "metadata": {},
     "output_type": "execute_result"
    }
   ],
   "source": [
    "#removing outliers in january dataframe\n",
    "q1 = january.quantile(0.25)\n",
    "q3 = january.quantile(0.75)\n",
    "IQR = q3-q1\n",
    "january = january[~((january < (q1 - 1.5 * IQR)) |(january > (q3 + 1.5 * IQR))).any(axis=1)]\n",
    "january.shape"
   ]
  },
  {
   "cell_type": "code",
   "execution_count": 180,
   "metadata": {},
   "outputs": [
    {
     "data": {
      "text/plain": [
       "(518, 13)"
      ]
     },
     "execution_count": 180,
     "metadata": {},
     "output_type": "execute_result"
    }
   ],
   "source": [
    "#removing outliers in march dataframe\n",
    "q1 = may.quantile(0.25)\n",
    "q3 = may.quantile(0.75)\n",
    "IQR = q3-q1\n",
    "may = may[~((may < (q1 - 1.5 * IQR)) | (may > (q3 + 1.5 * IQR))).any(axis=1)]\n",
    "may.shape"
   ]
  },
  {
   "cell_type": "code",
   "execution_count": 181,
   "metadata": {},
   "outputs": [
    {
     "data": {
      "text/plain": [
       "Postal code               0\n",
       "date                      0\n",
       "n_daily_data_points       0\n",
       "dayOfWeek                 0\n",
       "day_type                  0\n",
       "BlueCars_taken_sum        0\n",
       "BlueCars_returned_sum     0\n",
       "Utilib_taken_sum          0\n",
       "Utilib_returned_sum       0\n",
       "Utilib_14_taken_sum       0\n",
       "Utilib_14_returned_sum    0\n",
       "Slots_freed_sum           0\n",
       "Slots_taken_sum           0\n",
       "dtype: int64"
      ]
     },
     "execution_count": 181,
     "metadata": {},
     "output_type": "execute_result"
    }
   ],
   "source": [
    "#checking for null values\n",
    "may.isnull().sum()"
   ]
  },
  {
   "cell_type": "code",
   "execution_count": 134,
   "metadata": {},
   "outputs": [
    {
     "data": {
      "text/plain": [
       "Postal code               0\n",
       "date                      0\n",
       "n_daily_data_points       0\n",
       "dayOfWeek                 0\n",
       "day_type                  0\n",
       "BlueCars_taken_sum        0\n",
       "BlueCars_returned_sum     0\n",
       "Utilib_taken_sum          0\n",
       "Utilib_returned_sum       0\n",
       "Utilib_14_taken_sum       0\n",
       "Utilib_14_returned_sum    0\n",
       "Slots_freed_sum           0\n",
       "Slots_taken_sum           0\n",
       "dtype: int64"
      ]
     },
     "execution_count": 134,
     "metadata": {},
     "output_type": "execute_result"
    }
   ],
   "source": [
    "january.isnull().sum()"
   ]
  },
  {
   "cell_type": "markdown",
   "metadata": {},
   "source": [
    "# Exploratory Data Analysis"
   ]
  },
  {
   "cell_type": "markdown",
   "metadata": {},
   "source": [
    "## Univariate analysis"
   ]
  },
  {
   "cell_type": "markdown",
   "metadata": {},
   "source": [
    "#### checking the frequency of days in 'days of the week' column in march and january"
   ]
  },
  {
   "cell_type": "code",
   "execution_count": 183,
   "metadata": {},
   "outputs": [
    {
     "data": {
      "text/plain": [
       "1    132\n",
       "0    126\n",
       "2     91\n",
       "3     88\n",
       "4     81\n",
       "Name: dayOfWeek, dtype: int64"
      ]
     },
     "execution_count": 183,
     "metadata": {},
     "output_type": "execute_result"
    }
   ],
   "source": [
    "may['dayOfWeek'].value_counts()"
   ]
  },
  {
   "cell_type": "code",
   "execution_count": 136,
   "metadata": {},
   "outputs": [
    {
     "data": {
      "text/plain": [
       "<matplotlib.axes._subplots.AxesSubplot at 0x13eeca1b348>"
      ]
     },
     "execution_count": 136,
     "metadata": {},
     "output_type": "execute_result"
    },
    {
     "data": {
      "image/png": "[encoded data removed]",
      "text/plain": [
       "<Figure size 432x288 with 1 Axes>"
      ]
     },
     "metadata": {
      "needs_background": "light"
     },
     "output_type": "display_data"
    }
   ],
   "source": [
    "colors = ['g','r','b','m','y']\n",
    "january.dayOfWeek.value_counts().plot.bar(color = colors)"
   ]
  },
  {
   "cell_type": "markdown",
   "metadata": {},
   "source": [
    "#### The data on january is quite different than the one for march as most bluecars tend to be taken on Tuesday"
   ]
  },
  {
   "cell_type": "markdown",
   "metadata": {},
   "source": [
    "#### checking the info of the january dataframe"
   ]
  },
  {
   "cell_type": "code",
   "execution_count": 137,
   "metadata": {},
   "outputs": [
    {
     "name": "stdout",
     "output_type": "stream",
     "text": [
      "<class 'pandas.core.frame.DataFrame'>\n",
      "Int64Index: 744 entries, 3900 to 15959\n",
      "Data columns (total 13 columns):\n",
      "Postal code               744 non-null int64\n",
      "date                      744 non-null object\n",
      "n_daily_data_points       744 non-null int64\n",
      "dayOfWeek                 744 non-null int64\n",
      "day_type                  744 non-null object\n",
      "BlueCars_taken_sum        744 non-null int64\n",
      "BlueCars_returned_sum     744 non-null int64\n",
      "Utilib_taken_sum          744 non-null int64\n",
      "Utilib_returned_sum       744 non-null int64\n",
      "Utilib_14_taken_sum       744 non-null int64\n",
      "Utilib_14_returned_sum    744 non-null int64\n",
      "Slots_freed_sum           744 non-null int64\n",
      "Slots_taken_sum           744 non-null int64\n",
      "dtypes: int64(11), object(2)\n",
      "memory usage: 81.4+ KB\n"
     ]
    }
   ],
   "source": [
    "january.info()"
   ]
  },
  {
   "cell_type": "markdown",
   "metadata": {},
   "source": [
    "#### creating a boxplot of the bluecars column to check if most of the outliers were removed"
   ]
  },
  {
   "cell_type": "code",
   "execution_count": 184,
   "metadata": {},
   "outputs": [
    {
     "data": {
      "text/plain": [
       "<matplotlib.axes._subplots.AxesSubplot at 0x13eecd152c8>"
      ]
     },
     "execution_count": 184,
     "metadata": {},
     "output_type": "execute_result"
    },
    {
     "data": {
      "image/png": "[encoded data removed]",
      "text/plain": [
       "<Figure size 432x288 with 1 Axes>"
      ]
     },
     "metadata": {
      "needs_background": "light"
     },
     "output_type": "display_data"
    }
   ],
   "source": [
    "sns.boxplot(may['BlueCars_taken_sum'])"
   ]
  },
  {
   "cell_type": "code",
   "execution_count": 139,
   "metadata": {},
   "outputs": [
    {
     "data": {
      "text/plain": [
       "<matplotlib.axes._subplots.AxesSubplot at 0x13eecacb088>"
      ]
     },
     "execution_count": 139,
     "metadata": {},
     "output_type": "execute_result"
    },
    {
     "data": {
      "image/png": "[encoded data removed]",
      "text/plain": [
       "<Figure size 432x288 with 1 Axes>"
      ]
     },
     "metadata": {
      "needs_background": "light"
     },
     "output_type": "display_data"
    }
   ],
   "source": [
    "sns.boxplot(january['BlueCars_taken_sum'])"
   ]
  },
  {
   "cell_type": "markdown",
   "metadata": {},
   "source": [
    "#### creating a histogram of the the bluecars taken column for both januray and march"
   ]
  },
  {
   "cell_type": "code",
   "execution_count": 185,
   "metadata": {},
   "outputs": [
    {
     "data": {
      "text/plain": [
       "<matplotlib.axes._subplots.AxesSubplot at 0x13eecf41f88>"
      ]
     },
     "execution_count": 185,
     "metadata": {},
     "output_type": "execute_result"
    },
    {
     "data": {
      "image/png": "[encoded data removed]",
      "text/plain": [
       "<Figure size 432x288 with 1 Axes>"
      ]
     },
     "metadata": {
      "needs_background": "light"
     },
     "output_type": "display_data"
    }
   ],
   "source": [
    "sns.distplot(may['BlueCars_taken_sum'])"
   ]
  },
  {
   "cell_type": "code",
   "execution_count": 141,
   "metadata": {},
   "outputs": [
    {
     "data": {
      "text/plain": [
       "<matplotlib.axes._subplots.AxesSubplot at 0x13eecb7c6c8>"
      ]
     },
     "execution_count": 141,
     "metadata": {},
     "output_type": "execute_result"
    },
    {
     "data": {
      "image/png": "[encoded data removed]",
      "text/plain": [
       "<Figure size 432x288 with 1 Axes>"
      ]
     },
     "metadata": {
      "needs_background": "light"
     },
     "output_type": "display_data"
    }
   ],
   "source": [
    "sns.distplot(january['BlueCars_taken_sum'])"
   ]
  },
  {
   "cell_type": "markdown",
   "metadata": {},
   "source": [
    "#### As you can observe from the above histograms the column of interest (bluecar taken sum) has an irregular normal distribution"
   ]
  },
  {
   "cell_type": "markdown",
   "metadata": {},
   "source": [
    "#### next I am going to create samples and use those samples in calculating the t-statistic and p-value"
   ]
  },
  {
   "cell_type": "code",
   "execution_count": 142,
   "metadata": {},
   "outputs": [
    {
     "data": {
      "text/html": [
       "<div>\n",
       "<style scoped>\n",
       "    .dataframe tbody tr th:only-of-type {\n",
       "        vertical-align: middle;\n",
       "    }\n",
       "\n",
       "    .dataframe tbody tr th {\n",
       "        vertical-align: top;\n",
       "    }\n",
       "\n",
       "    .dataframe thead th {\n",
       "        text-align: right;\n",
       "    }\n",
       "</style>\n",
       "<table border=\"1\" class=\"dataframe\">\n",
       "  <thead>\n",
       "    <tr style=\"text-align: right;\">\n",
       "      <th></th>\n",
       "      <th>Postal code</th>\n",
       "      <th>date</th>\n",
       "      <th>n_daily_data_points</th>\n",
       "      <th>dayOfWeek</th>\n",
       "      <th>day_type</th>\n",
       "      <th>BlueCars_taken_sum</th>\n",
       "      <th>BlueCars_returned_sum</th>\n",
       "      <th>Utilib_taken_sum</th>\n",
       "      <th>Utilib_returned_sum</th>\n",
       "      <th>Utilib_14_taken_sum</th>\n",
       "      <th>Utilib_14_returned_sum</th>\n",
       "      <th>Slots_freed_sum</th>\n",
       "      <th>Slots_taken_sum</th>\n",
       "    </tr>\n",
       "  </thead>\n",
       "  <tbody>\n",
       "    <tr>\n",
       "      <th>7642</th>\n",
       "      <td>92320</td>\n",
       "      <td>2018-01-02 00:00:00</td>\n",
       "      <td>1438</td>\n",
       "      <td>1</td>\n",
       "      <td>weekday</td>\n",
       "      <td>51</td>\n",
       "      <td>53</td>\n",
       "      <td>0</td>\n",
       "      <td>1</td>\n",
       "      <td>2</td>\n",
       "      <td>3</td>\n",
       "      <td>0</td>\n",
       "      <td>0</td>\n",
       "    </tr>\n",
       "    <tr>\n",
       "      <th>7177</th>\n",
       "      <td>92290</td>\n",
       "      <td>2018-01-05 00:00:00</td>\n",
       "      <td>1440</td>\n",
       "      <td>4</td>\n",
       "      <td>weekday</td>\n",
       "      <td>20</td>\n",
       "      <td>15</td>\n",
       "      <td>1</td>\n",
       "      <td>2</td>\n",
       "      <td>2</td>\n",
       "      <td>3</td>\n",
       "      <td>0</td>\n",
       "      <td>0</td>\n",
       "    </tr>\n",
       "    <tr>\n",
       "      <th>13288</th>\n",
       "      <td>94110</td>\n",
       "      <td>2018-01-11 00:00:00</td>\n",
       "      <td>1440</td>\n",
       "      <td>3</td>\n",
       "      <td>weekday</td>\n",
       "      <td>34</td>\n",
       "      <td>39</td>\n",
       "      <td>0</td>\n",
       "      <td>0</td>\n",
       "      <td>5</td>\n",
       "      <td>5</td>\n",
       "      <td>0</td>\n",
       "      <td>0</td>\n",
       "    </tr>\n",
       "    <tr>\n",
       "      <th>8108</th>\n",
       "      <td>92350</td>\n",
       "      <td>2018-01-09 00:00:00</td>\n",
       "      <td>1439</td>\n",
       "      <td>1</td>\n",
       "      <td>weekday</td>\n",
       "      <td>26</td>\n",
       "      <td>24</td>\n",
       "      <td>0</td>\n",
       "      <td>0</td>\n",
       "      <td>2</td>\n",
       "      <td>3</td>\n",
       "      <td>0</td>\n",
       "      <td>0</td>\n",
       "    </tr>\n",
       "    <tr>\n",
       "      <th>11662</th>\n",
       "      <td>93360</td>\n",
       "      <td>2018-01-16 00:00:00</td>\n",
       "      <td>1440</td>\n",
       "      <td>1</td>\n",
       "      <td>weekday</td>\n",
       "      <td>15</td>\n",
       "      <td>13</td>\n",
       "      <td>0</td>\n",
       "      <td>0</td>\n",
       "      <td>0</td>\n",
       "      <td>1</td>\n",
       "      <td>0</td>\n",
       "      <td>0</td>\n",
       "    </tr>\n",
       "  </tbody>\n",
       "</table>\n",
       "</div>"
      ],
      "text/plain": [
       "       Postal code                 date  n_daily_data_points  dayOfWeek  \\\n",
       "7642         92320  2018-01-02 00:00:00                 1438          1   \n",
       "7177         92290  2018-01-05 00:00:00                 1440          4   \n",
       "13288        94110  2018-01-11 00:00:00                 1440          3   \n",
       "8108         92350  2018-01-09 00:00:00                 1439          1   \n",
       "11662        93360  2018-01-16 00:00:00                 1440          1   \n",
       "\n",
       "      day_type  BlueCars_taken_sum  BlueCars_returned_sum  Utilib_taken_sum  \\\n",
       "7642   weekday                  51                     53                 0   \n",
       "7177   weekday                  20                     15                 1   \n",
       "13288  weekday                  34                     39                 0   \n",
       "8108   weekday                  26                     24                 0   \n",
       "11662  weekday                  15                     13                 0   \n",
       "\n",
       "       Utilib_returned_sum  Utilib_14_taken_sum  Utilib_14_returned_sum  \\\n",
       "7642                     1                    2                       3   \n",
       "7177                     2                    2                       3   \n",
       "13288                    0                    5                       5   \n",
       "8108                     0                    2                       3   \n",
       "11662                    0                    0                       1   \n",
       "\n",
       "       Slots_freed_sum  Slots_taken_sum  \n",
       "7642                 0                0  \n",
       "7177                 0                0  \n",
       "13288                0                0  \n",
       "8108                 0                0  \n",
       "11662                0                0  "
      ]
     },
     "execution_count": 142,
     "metadata": {},
     "output_type": "execute_result"
    }
   ],
   "source": [
    "jansample = january.sample(n=30)\n",
    "jansample.head()"
   ]
  },
  {
   "cell_type": "code",
   "execution_count": 186,
   "metadata": {},
   "outputs": [
    {
     "data": {
      "text/html": [
       "<div>\n",
       "<style scoped>\n",
       "    .dataframe tbody tr th:only-of-type {\n",
       "        vertical-align: middle;\n",
       "    }\n",
       "\n",
       "    .dataframe tbody tr th {\n",
       "        vertical-align: top;\n",
       "    }\n",
       "\n",
       "    .dataframe thead th {\n",
       "        text-align: right;\n",
       "    }\n",
       "</style>\n",
       "<table border=\"1\" class=\"dataframe\">\n",
       "  <thead>\n",
       "    <tr style=\"text-align: right;\">\n",
       "      <th></th>\n",
       "      <th>Postal code</th>\n",
       "      <th>date</th>\n",
       "      <th>n_daily_data_points</th>\n",
       "      <th>dayOfWeek</th>\n",
       "      <th>day_type</th>\n",
       "      <th>BlueCars_taken_sum</th>\n",
       "      <th>BlueCars_returned_sum</th>\n",
       "      <th>Utilib_taken_sum</th>\n",
       "      <th>Utilib_returned_sum</th>\n",
       "      <th>Utilib_14_taken_sum</th>\n",
       "      <th>Utilib_14_returned_sum</th>\n",
       "      <th>Slots_freed_sum</th>\n",
       "      <th>Slots_taken_sum</th>\n",
       "    </tr>\n",
       "  </thead>\n",
       "  <tbody>\n",
       "    <tr>\n",
       "      <th>12625</th>\n",
       "      <td>93600</td>\n",
       "      <td>2018-05-21 00:00:00</td>\n",
       "      <td>1440</td>\n",
       "      <td>0</td>\n",
       "      <td>weekday</td>\n",
       "      <td>28</td>\n",
       "      <td>20</td>\n",
       "      <td>0</td>\n",
       "      <td>0</td>\n",
       "      <td>0</td>\n",
       "      <td>0</td>\n",
       "      <td>0</td>\n",
       "      <td>0</td>\n",
       "    </tr>\n",
       "    <tr>\n",
       "      <th>8223</th>\n",
       "      <td>92350</td>\n",
       "      <td>2018-05-07 00:00:00</td>\n",
       "      <td>1437</td>\n",
       "      <td>0</td>\n",
       "      <td>weekday</td>\n",
       "      <td>26</td>\n",
       "      <td>18</td>\n",
       "      <td>0</td>\n",
       "      <td>0</td>\n",
       "      <td>2</td>\n",
       "      <td>2</td>\n",
       "      <td>0</td>\n",
       "      <td>0</td>\n",
       "    </tr>\n",
       "    <tr>\n",
       "      <th>7296</th>\n",
       "      <td>92290</td>\n",
       "      <td>2018-05-07 00:00:00</td>\n",
       "      <td>1437</td>\n",
       "      <td>0</td>\n",
       "      <td>weekday</td>\n",
       "      <td>10</td>\n",
       "      <td>10</td>\n",
       "      <td>0</td>\n",
       "      <td>0</td>\n",
       "      <td>0</td>\n",
       "      <td>0</td>\n",
       "      <td>0</td>\n",
       "      <td>0</td>\n",
       "    </tr>\n",
       "    <tr>\n",
       "      <th>4341</th>\n",
       "      <td>91400</td>\n",
       "      <td>2018-05-25 00:00:00</td>\n",
       "      <td>1440</td>\n",
       "      <td>4</td>\n",
       "      <td>weekday</td>\n",
       "      <td>21</td>\n",
       "      <td>18</td>\n",
       "      <td>0</td>\n",
       "      <td>0</td>\n",
       "      <td>0</td>\n",
       "      <td>0</td>\n",
       "      <td>0</td>\n",
       "      <td>0</td>\n",
       "    </tr>\n",
       "    <tr>\n",
       "      <th>15284</th>\n",
       "      <td>94500</td>\n",
       "      <td>2018-05-30 00:00:00</td>\n",
       "      <td>1440</td>\n",
       "      <td>2</td>\n",
       "      <td>weekday</td>\n",
       "      <td>25</td>\n",
       "      <td>32</td>\n",
       "      <td>0</td>\n",
       "      <td>0</td>\n",
       "      <td>3</td>\n",
       "      <td>4</td>\n",
       "      <td>0</td>\n",
       "      <td>0</td>\n",
       "    </tr>\n",
       "  </tbody>\n",
       "</table>\n",
       "</div>"
      ],
      "text/plain": [
       "       Postal code                 date  n_daily_data_points  dayOfWeek  \\\n",
       "12625        93600  2018-05-21 00:00:00                 1440          0   \n",
       "8223         92350  2018-05-07 00:00:00                 1437          0   \n",
       "7296         92290  2018-05-07 00:00:00                 1437          0   \n",
       "4341         91400  2018-05-25 00:00:00                 1440          4   \n",
       "15284        94500  2018-05-30 00:00:00                 1440          2   \n",
       "\n",
       "      day_type  BlueCars_taken_sum  BlueCars_returned_sum  Utilib_taken_sum  \\\n",
       "12625  weekday                  28                     20                 0   \n",
       "8223   weekday                  26                     18                 0   \n",
       "7296   weekday                  10                     10                 0   \n",
       "4341   weekday                  21                     18                 0   \n",
       "15284  weekday                  25                     32                 0   \n",
       "\n",
       "       Utilib_returned_sum  Utilib_14_taken_sum  Utilib_14_returned_sum  \\\n",
       "12625                    0                    0                       0   \n",
       "8223                     0                    2                       2   \n",
       "7296                     0                    0                       0   \n",
       "4341                     0                    0                       0   \n",
       "15284                    0                    3                       4   \n",
       "\n",
       "       Slots_freed_sum  Slots_taken_sum  \n",
       "12625                0                0  \n",
       "8223                 0                0  \n",
       "7296                 0                0  \n",
       "4341                 0                0  \n",
       "15284                0                0  "
      ]
     },
     "execution_count": 186,
     "metadata": {},
     "output_type": "execute_result"
    }
   ],
   "source": [
    "#creating a sample of 30 variables\n",
    "maysample = may.sample(n= 30)\n",
    "maysample.head()"
   ]
  },
  {
   "cell_type": "markdown",
   "metadata": {},
   "source": [
    "#### using the describe method in calculating the measures of central tendency "
   ]
  },
  {
   "cell_type": "code",
   "execution_count": 144,
   "metadata": {},
   "outputs": [
    {
     "data": {
      "text/html": [
       "<div>\n",
       "<style scoped>\n",
       "    .dataframe tbody tr th:only-of-type {\n",
       "        vertical-align: middle;\n",
       "    }\n",
       "\n",
       "    .dataframe tbody tr th {\n",
       "        vertical-align: top;\n",
       "    }\n",
       "\n",
       "    .dataframe thead th {\n",
       "        text-align: right;\n",
       "    }\n",
       "</style>\n",
       "<table border=\"1\" class=\"dataframe\">\n",
       "  <thead>\n",
       "    <tr style=\"text-align: right;\">\n",
       "      <th></th>\n",
       "      <th>Postal code</th>\n",
       "      <th>n_daily_data_points</th>\n",
       "      <th>dayOfWeek</th>\n",
       "      <th>BlueCars_taken_sum</th>\n",
       "      <th>BlueCars_returned_sum</th>\n",
       "      <th>Utilib_taken_sum</th>\n",
       "      <th>Utilib_returned_sum</th>\n",
       "      <th>Utilib_14_taken_sum</th>\n",
       "      <th>Utilib_14_returned_sum</th>\n",
       "      <th>Slots_freed_sum</th>\n",
       "      <th>Slots_taken_sum</th>\n",
       "    </tr>\n",
       "  </thead>\n",
       "  <tbody>\n",
       "    <tr>\n",
       "      <th>count</th>\n",
       "      <td>30.000000</td>\n",
       "      <td>30.000000</td>\n",
       "      <td>30.000000</td>\n",
       "      <td>30.000000</td>\n",
       "      <td>30.000000</td>\n",
       "      <td>30.000000</td>\n",
       "      <td>30.00000</td>\n",
       "      <td>30.000000</td>\n",
       "      <td>30.000000</td>\n",
       "      <td>30.0</td>\n",
       "      <td>30.0</td>\n",
       "    </tr>\n",
       "    <tr>\n",
       "      <th>mean</th>\n",
       "      <td>93347.333333</td>\n",
       "      <td>1439.233333</td>\n",
       "      <td>1.766667</td>\n",
       "      <td>21.800000</td>\n",
       "      <td>22.566667</td>\n",
       "      <td>0.533333</td>\n",
       "      <td>0.70000</td>\n",
       "      <td>1.566667</td>\n",
       "      <td>1.766667</td>\n",
       "      <td>0.0</td>\n",
       "      <td>0.0</td>\n",
       "    </tr>\n",
       "    <tr>\n",
       "      <th>std</th>\n",
       "      <td>1145.870948</td>\n",
       "      <td>0.858360</td>\n",
       "      <td>1.454679</td>\n",
       "      <td>12.906561</td>\n",
       "      <td>13.283859</td>\n",
       "      <td>0.681445</td>\n",
       "      <td>0.83666</td>\n",
       "      <td>1.501340</td>\n",
       "      <td>1.330889</td>\n",
       "      <td>0.0</td>\n",
       "      <td>0.0</td>\n",
       "    </tr>\n",
       "    <tr>\n",
       "      <th>min</th>\n",
       "      <td>91370.000000</td>\n",
       "      <td>1438.000000</td>\n",
       "      <td>0.000000</td>\n",
       "      <td>3.000000</td>\n",
       "      <td>4.000000</td>\n",
       "      <td>0.000000</td>\n",
       "      <td>0.00000</td>\n",
       "      <td>0.000000</td>\n",
       "      <td>0.000000</td>\n",
       "      <td>0.0</td>\n",
       "      <td>0.0</td>\n",
       "    </tr>\n",
       "    <tr>\n",
       "      <th>25%</th>\n",
       "      <td>92382.500000</td>\n",
       "      <td>1438.250000</td>\n",
       "      <td>1.000000</td>\n",
       "      <td>13.250000</td>\n",
       "      <td>13.250000</td>\n",
       "      <td>0.000000</td>\n",
       "      <td>0.00000</td>\n",
       "      <td>1.000000</td>\n",
       "      <td>1.000000</td>\n",
       "      <td>0.0</td>\n",
       "      <td>0.0</td>\n",
       "    </tr>\n",
       "    <tr>\n",
       "      <th>50%</th>\n",
       "      <td>93230.000000</td>\n",
       "      <td>1439.500000</td>\n",
       "      <td>1.000000</td>\n",
       "      <td>18.500000</td>\n",
       "      <td>22.000000</td>\n",
       "      <td>0.000000</td>\n",
       "      <td>0.00000</td>\n",
       "      <td>1.000000</td>\n",
       "      <td>1.500000</td>\n",
       "      <td>0.0</td>\n",
       "      <td>0.0</td>\n",
       "    </tr>\n",
       "    <tr>\n",
       "      <th>75%</th>\n",
       "      <td>94192.500000</td>\n",
       "      <td>1440.000000</td>\n",
       "      <td>3.000000</td>\n",
       "      <td>27.750000</td>\n",
       "      <td>27.750000</td>\n",
       "      <td>1.000000</td>\n",
       "      <td>1.00000</td>\n",
       "      <td>2.000000</td>\n",
       "      <td>3.000000</td>\n",
       "      <td>0.0</td>\n",
       "      <td>0.0</td>\n",
       "    </tr>\n",
       "    <tr>\n",
       "      <th>max</th>\n",
       "      <td>95880.000000</td>\n",
       "      <td>1440.000000</td>\n",
       "      <td>4.000000</td>\n",
       "      <td>60.000000</td>\n",
       "      <td>58.000000</td>\n",
       "      <td>2.000000</td>\n",
       "      <td>2.00000</td>\n",
       "      <td>5.000000</td>\n",
       "      <td>5.000000</td>\n",
       "      <td>0.0</td>\n",
       "      <td>0.0</td>\n",
       "    </tr>\n",
       "  </tbody>\n",
       "</table>\n",
       "</div>"
      ],
      "text/plain": [
       "        Postal code  n_daily_data_points  dayOfWeek  BlueCars_taken_sum  \\\n",
       "count     30.000000            30.000000  30.000000           30.000000   \n",
       "mean   93347.333333          1439.233333   1.766667           21.800000   \n",
       "std     1145.870948             0.858360   1.454679           12.906561   \n",
       "min    91370.000000          1438.000000   0.000000            3.000000   \n",
       "25%    92382.500000          1438.250000   1.000000           13.250000   \n",
       "50%    93230.000000          1439.500000   1.000000           18.500000   \n",
       "75%    94192.500000          1440.000000   3.000000           27.750000   \n",
       "max    95880.000000          1440.000000   4.000000           60.000000   \n",
       "\n",
       "       BlueCars_returned_sum  Utilib_taken_sum  Utilib_returned_sum  \\\n",
       "count              30.000000         30.000000             30.00000   \n",
       "mean               22.566667          0.533333              0.70000   \n",
       "std                13.283859          0.681445              0.83666   \n",
       "min                 4.000000          0.000000              0.00000   \n",
       "25%                13.250000          0.000000              0.00000   \n",
       "50%                22.000000          0.000000              0.00000   \n",
       "75%                27.750000          1.000000              1.00000   \n",
       "max                58.000000          2.000000              2.00000   \n",
       "\n",
       "       Utilib_14_taken_sum  Utilib_14_returned_sum  Slots_freed_sum  \\\n",
       "count            30.000000               30.000000             30.0   \n",
       "mean              1.566667                1.766667              0.0   \n",
       "std               1.501340                1.330889              0.0   \n",
       "min               0.000000                0.000000              0.0   \n",
       "25%               1.000000                1.000000              0.0   \n",
       "50%               1.000000                1.500000              0.0   \n",
       "75%               2.000000                3.000000              0.0   \n",
       "max               5.000000                5.000000              0.0   \n",
       "\n",
       "       Slots_taken_sum  \n",
       "count             30.0  \n",
       "mean               0.0  \n",
       "std                0.0  \n",
       "min                0.0  \n",
       "25%                0.0  \n",
       "50%                0.0  \n",
       "75%                0.0  \n",
       "max                0.0  "
      ]
     },
     "execution_count": 144,
     "metadata": {},
     "output_type": "execute_result"
    }
   ],
   "source": [
    "jansample.describe()"
   ]
  },
  {
   "cell_type": "code",
   "execution_count": 187,
   "metadata": {},
   "outputs": [
    {
     "data": {
      "text/html": [
       "<div>\n",
       "<style scoped>\n",
       "    .dataframe tbody tr th:only-of-type {\n",
       "        vertical-align: middle;\n",
       "    }\n",
       "\n",
       "    .dataframe tbody tr th {\n",
       "        vertical-align: top;\n",
       "    }\n",
       "\n",
       "    .dataframe thead th {\n",
       "        text-align: right;\n",
       "    }\n",
       "</style>\n",
       "<table border=\"1\" class=\"dataframe\">\n",
       "  <thead>\n",
       "    <tr style=\"text-align: right;\">\n",
       "      <th></th>\n",
       "      <th>Postal code</th>\n",
       "      <th>n_daily_data_points</th>\n",
       "      <th>dayOfWeek</th>\n",
       "      <th>BlueCars_taken_sum</th>\n",
       "      <th>BlueCars_returned_sum</th>\n",
       "      <th>Utilib_taken_sum</th>\n",
       "      <th>Utilib_returned_sum</th>\n",
       "      <th>Utilib_14_taken_sum</th>\n",
       "      <th>Utilib_14_returned_sum</th>\n",
       "      <th>Slots_freed_sum</th>\n",
       "      <th>Slots_taken_sum</th>\n",
       "    </tr>\n",
       "  </thead>\n",
       "  <tbody>\n",
       "    <tr>\n",
       "      <th>count</th>\n",
       "      <td>30.000000</td>\n",
       "      <td>30.00000</td>\n",
       "      <td>30.000000</td>\n",
       "      <td>30.000000</td>\n",
       "      <td>30.00000</td>\n",
       "      <td>30.000000</td>\n",
       "      <td>30.000000</td>\n",
       "      <td>30.000000</td>\n",
       "      <td>30.000000</td>\n",
       "      <td>30.0</td>\n",
       "      <td>30.0</td>\n",
       "    </tr>\n",
       "    <tr>\n",
       "      <th>mean</th>\n",
       "      <td>93100.000000</td>\n",
       "      <td>1438.50000</td>\n",
       "      <td>2.000000</td>\n",
       "      <td>29.733333</td>\n",
       "      <td>29.30000</td>\n",
       "      <td>0.566667</td>\n",
       "      <td>0.600000</td>\n",
       "      <td>1.933333</td>\n",
       "      <td>1.900000</td>\n",
       "      <td>0.0</td>\n",
       "      <td>0.0</td>\n",
       "    </tr>\n",
       "    <tr>\n",
       "      <th>std</th>\n",
       "      <td>1003.002389</td>\n",
       "      <td>1.92533</td>\n",
       "      <td>1.531283</td>\n",
       "      <td>19.213740</td>\n",
       "      <td>19.27684</td>\n",
       "      <td>0.727932</td>\n",
       "      <td>0.855006</td>\n",
       "      <td>2.066704</td>\n",
       "      <td>2.040115</td>\n",
       "      <td>0.0</td>\n",
       "      <td>0.0</td>\n",
       "    </tr>\n",
       "    <tr>\n",
       "      <th>min</th>\n",
       "      <td>91400.000000</td>\n",
       "      <td>1435.00000</td>\n",
       "      <td>0.000000</td>\n",
       "      <td>4.000000</td>\n",
       "      <td>4.00000</td>\n",
       "      <td>0.000000</td>\n",
       "      <td>0.000000</td>\n",
       "      <td>0.000000</td>\n",
       "      <td>0.000000</td>\n",
       "      <td>0.0</td>\n",
       "      <td>0.0</td>\n",
       "    </tr>\n",
       "    <tr>\n",
       "      <th>25%</th>\n",
       "      <td>92297.500000</td>\n",
       "      <td>1437.00000</td>\n",
       "      <td>1.000000</td>\n",
       "      <td>17.500000</td>\n",
       "      <td>14.25000</td>\n",
       "      <td>0.000000</td>\n",
       "      <td>0.000000</td>\n",
       "      <td>0.000000</td>\n",
       "      <td>0.000000</td>\n",
       "      <td>0.0</td>\n",
       "      <td>0.0</td>\n",
       "    </tr>\n",
       "    <tr>\n",
       "      <th>50%</th>\n",
       "      <td>93265.000000</td>\n",
       "      <td>1440.00000</td>\n",
       "      <td>2.000000</td>\n",
       "      <td>26.500000</td>\n",
       "      <td>26.00000</td>\n",
       "      <td>0.000000</td>\n",
       "      <td>0.000000</td>\n",
       "      <td>1.000000</td>\n",
       "      <td>1.500000</td>\n",
       "      <td>0.0</td>\n",
       "      <td>0.0</td>\n",
       "    </tr>\n",
       "    <tr>\n",
       "      <th>75%</th>\n",
       "      <td>93750.000000</td>\n",
       "      <td>1440.00000</td>\n",
       "      <td>3.750000</td>\n",
       "      <td>38.000000</td>\n",
       "      <td>37.25000</td>\n",
       "      <td>1.000000</td>\n",
       "      <td>1.000000</td>\n",
       "      <td>3.000000</td>\n",
       "      <td>2.000000</td>\n",
       "      <td>0.0</td>\n",
       "      <td>0.0</td>\n",
       "    </tr>\n",
       "    <tr>\n",
       "      <th>max</th>\n",
       "      <td>95100.000000</td>\n",
       "      <td>1440.00000</td>\n",
       "      <td>4.000000</td>\n",
       "      <td>79.000000</td>\n",
       "      <td>75.00000</td>\n",
       "      <td>2.000000</td>\n",
       "      <td>2.000000</td>\n",
       "      <td>7.000000</td>\n",
       "      <td>7.000000</td>\n",
       "      <td>0.0</td>\n",
       "      <td>0.0</td>\n",
       "    </tr>\n",
       "  </tbody>\n",
       "</table>\n",
       "</div>"
      ],
      "text/plain": [
       "        Postal code  n_daily_data_points  dayOfWeek  BlueCars_taken_sum  \\\n",
       "count     30.000000             30.00000  30.000000           30.000000   \n",
       "mean   93100.000000           1438.50000   2.000000           29.733333   \n",
       "std     1003.002389              1.92533   1.531283           19.213740   \n",
       "min    91400.000000           1435.00000   0.000000            4.000000   \n",
       "25%    92297.500000           1437.00000   1.000000           17.500000   \n",
       "50%    93265.000000           1440.00000   2.000000           26.500000   \n",
       "75%    93750.000000           1440.00000   3.750000           38.000000   \n",
       "max    95100.000000           1440.00000   4.000000           79.000000   \n",
       "\n",
       "       BlueCars_returned_sum  Utilib_taken_sum  Utilib_returned_sum  \\\n",
       "count               30.00000         30.000000            30.000000   \n",
       "mean                29.30000          0.566667             0.600000   \n",
       "std                 19.27684          0.727932             0.855006   \n",
       "min                  4.00000          0.000000             0.000000   \n",
       "25%                 14.25000          0.000000             0.000000   \n",
       "50%                 26.00000          0.000000             0.000000   \n",
       "75%                 37.25000          1.000000             1.000000   \n",
       "max                 75.00000          2.000000             2.000000   \n",
       "\n",
       "       Utilib_14_taken_sum  Utilib_14_returned_sum  Slots_freed_sum  \\\n",
       "count            30.000000               30.000000             30.0   \n",
       "mean              1.933333                1.900000              0.0   \n",
       "std               2.066704                2.040115              0.0   \n",
       "min               0.000000                0.000000              0.0   \n",
       "25%               0.000000                0.000000              0.0   \n",
       "50%               1.000000                1.500000              0.0   \n",
       "75%               3.000000                2.000000              0.0   \n",
       "max               7.000000                7.000000              0.0   \n",
       "\n",
       "       Slots_taken_sum  \n",
       "count             30.0  \n",
       "mean               0.0  \n",
       "std                0.0  \n",
       "min                0.0  \n",
       "25%                0.0  \n",
       "50%                0.0  \n",
       "75%                0.0  \n",
       "max                0.0  "
      ]
     },
     "execution_count": 187,
     "metadata": {},
     "output_type": "execute_result"
    }
   ],
   "source": [
    "maysample.describe()"
   ]
  },
  {
   "cell_type": "markdown",
   "metadata": {},
   "source": [
    "#### creating a histogram of the samples "
   ]
  },
  {
   "cell_type": "code",
   "execution_count": 146,
   "metadata": {},
   "outputs": [
    {
     "data": {
      "text/plain": [
       "<matplotlib.axes._subplots.AxesSubplot at 0x13eec9ebf08>"
      ]
     },
     "execution_count": 146,
     "metadata": {},
     "output_type": "execute_result"
    },
    {
     "data": {
      "image/png": "[encoded data removed]",
      "text/plain": [
       "<Figure size 432x288 with 1 Axes>"
      ]
     },
     "metadata": {
      "needs_background": "light"
     },
     "output_type": "display_data"
    }
   ],
   "source": [
    "sns.distplot(jansample['BlueCars_taken_sum'])"
   ]
  },
  {
   "cell_type": "code",
   "execution_count": 188,
   "metadata": {},
   "outputs": [
    {
     "data": {
      "text/plain": [
       "<matplotlib.axes._subplots.AxesSubplot at 0x13eecfd3a48>"
      ]
     },
     "execution_count": 188,
     "metadata": {},
     "output_type": "execute_result"
    },
    {
     "data": {
      "image/png": "[encoded data removed]",
      "text/plain": [
       "<Figure size 432x288 with 1 Axes>"
      ]
     },
     "metadata": {
      "needs_background": "light"
     },
     "output_type": "display_data"
    }
   ],
   "source": [
    "sns.distplot(maysample['BlueCars_taken_sum'])"
   ]
  },
  {
   "cell_type": "markdown",
   "metadata": {},
   "source": [
    "## Bivariate analysis"
   ]
  },
  {
   "cell_type": "markdown",
   "metadata": {},
   "source": [
    "#### creating a scatterplot of the blucars taken against the postal code from the sampled dataframes "
   ]
  },
  {
   "cell_type": "code",
   "execution_count": 148,
   "metadata": {},
   "outputs": [
    {
     "data": {
      "text/plain": [
       "<matplotlib.axes._subplots.AxesSubplot at 0x13eecd69188>"
      ]
     },
     "execution_count": 148,
     "metadata": {},
     "output_type": "execute_result"
    },
    {
     "data": {
      "image/png": "[encoded data removed]",
      "text/plain": [
       "<Figure size 432x288 with 1 Axes>"
      ]
     },
     "metadata": {
      "needs_background": "light"
     },
     "output_type": "display_data"
    }
   ],
   "source": [
    "x = jansample.BlueCars_taken_sum\n",
    "y = jansample['Postal code']\n",
    "sns.scatterplot(x,y,hue = x)"
   ]
  },
  {
   "cell_type": "code",
   "execution_count": 189,
   "metadata": {},
   "outputs": [
    {
     "data": {
      "text/plain": [
       "<matplotlib.axes._subplots.AxesSubplot at 0x13eed04a708>"
      ]
     },
     "execution_count": 189,
     "metadata": {},
     "output_type": "execute_result"
    },
    {
     "data": {
      "image/png": "[encoded data removed]",
      "text/plain": [
       "<Figure size 432x288 with 1 Axes>"
      ]
     },
     "metadata": {
      "needs_background": "light"
     },
     "output_type": "display_data"
    }
   ],
   "source": [
    "r = maysample.BlueCars_taken_sum\n",
    "v = maysample['Postal code']\n",
    "sns.scatterplot(r,v,hue = r)"
   ]
  },
  {
   "cell_type": "markdown",
   "metadata": {},
   "source": [
    "## Hypothesis testing"
   ]
  },
  {
   "cell_type": "markdown",
   "metadata": {},
   "source": [
    "#### To conduct the test I will use a t-test\n",
    "#### The reason for using a t-test are due to the fact of the small sample size that I have selected (<30 samples)\n",
    "#### The level of significance is set at 0.05,this will be a two sided t-test\n",
    "\n",
    "#### To run the hypothesis test I will the 'bluecar_taken_sum' column as which should give a clear picture on bluecar usage during the chosen periods"
   ]
  },
  {
   "cell_type": "code",
   "execution_count": 192,
   "metadata": {},
   "outputs": [
    {
     "name": "stdout",
     "output_type": "stream",
     "text": [
      "21.8\n",
      "29.733333333333334\n"
     ]
    }
   ],
   "source": [
    "print(jansample.BlueCars_taken_sum .mean())\n",
    "print(maysample.BlueCars_taken_sum .mean())"
   ]
  },
  {
   "cell_type": "markdown",
   "metadata": {},
   "source": [
    "#### finding the means of the blucar column between Januray and May I can see that the mean for May has increased substantially as compared to the mean for january but does that mean{ pun unintended:) } that more people are using the bluecars?\n",
    "#### Time to find out below"
   ]
  },
  {
   "cell_type": "code",
   "execution_count": 193,
   "metadata": {},
   "outputs": [
    {
     "name": "stdout",
     "output_type": "stream",
     "text": [
      "the t-statistic is -1.877311776595369 whilst the p value is 0.0655073917984725\n"
     ]
    }
   ],
   "source": [
    "from scipy.stats import ttest_ind as t_test\n",
    "x = jansample.BlueCars_taken_sum\n",
    "y = maysample.BlueCars_taken_sum\n",
    "\n",
    "t,p = t_test(x,y, equal_var= True)\n",
    "\n",
    "print('the t-statistic is ' + str(t) + ' whilst the p value is ' + str(p))"
   ]
  },
  {
   "cell_type": "markdown",
   "metadata": {},
   "source": [
    "#### The above pvalue of 6.5% is greater than the level of signifance of 5% and thus indicates a clear rejection of the alternative hypothesis that bluecar usage has increased over the 4 month period between January and May.\n",
    "#### A conclusion to be drawn from this would be to look at the factors that are causing bluecar usage to not increase and to formulate solutions on how this can be countered."
   ]
  }
 ],
 "metadata": {
  "kernelspec": {
   "display_name": "Python 3",
   "language": "python",
   "name": "python3"
  },
  "language_info": {
   "codemirror_mode": {
    "name": "ipython",
    "version": 3
   },
   "file_extension": ".py",
   "mimetype": "text/x-python",
   "name": "python",
   "nbconvert_exporter": "python",
   "pygments_lexer": "ipython3",
   "version": "3.7.4"
  }
 },
 "nbformat": 4,
 "nbformat_minor": 2
}
