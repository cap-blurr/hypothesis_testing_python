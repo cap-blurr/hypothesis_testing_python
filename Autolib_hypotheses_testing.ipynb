{
 "cells": [
  {
   "cell_type": "code",
   "execution_count": 107,
   "metadata": {},
   "outputs": [],
   "source": [
    "#importing relevant libraries\n",
    "import pandas as pd\n",
    "import seaborn as sns\n",
    "import matplotlib.pyplot as plt\n",
    "import pandas_profiling\n",
    "from scipy import stats"
   ]
  },
  {
   "cell_type": "code",
   "execution_count": 108,
   "metadata": {},
   "outputs": [
    {
     "data": {
      "text/html": [
       "<div>\n",
       "<style scoped>\n",
       "    .dataframe tbody tr th:only-of-type {\n",
       "        vertical-align: middle;\n",
       "    }\n",
       "\n",
       "    .dataframe tbody tr th {\n",
       "        vertical-align: top;\n",
       "    }\n",
       "\n",
       "    .dataframe thead th {\n",
       "        text-align: right;\n",
       "    }\n",
       "</style>\n",
       "<table border=\"1\" class=\"dataframe\">\n",
       "  <thead>\n",
       "    <tr style=\"text-align: right;\">\n",
       "      <th></th>\n",
       "      <th>Postal code</th>\n",
       "      <th>date</th>\n",
       "      <th>n_daily_data_points</th>\n",
       "      <th>dayOfWeek</th>\n",
       "      <th>day_type</th>\n",
       "      <th>BlueCars_taken_sum</th>\n",
       "      <th>BlueCars_returned_sum</th>\n",
       "      <th>Utilib_taken_sum</th>\n",
       "      <th>Utilib_returned_sum</th>\n",
       "      <th>Utilib_14_taken_sum</th>\n",
       "      <th>Utilib_14_returned_sum</th>\n",
       "      <th>Slots_freed_sum</th>\n",
       "      <th>Slots_taken_sum</th>\n",
       "    </tr>\n",
       "  </thead>\n",
       "  <tbody>\n",
       "    <tr>\n",
       "      <th>0</th>\n",
       "      <td>75001</td>\n",
       "      <td>1/1/2018</td>\n",
       "      <td>1440</td>\n",
       "      <td>0</td>\n",
       "      <td>weekday</td>\n",
       "      <td>110</td>\n",
       "      <td>103</td>\n",
       "      <td>3</td>\n",
       "      <td>2</td>\n",
       "      <td>10</td>\n",
       "      <td>9</td>\n",
       "      <td>22</td>\n",
       "      <td>20</td>\n",
       "    </tr>\n",
       "    <tr>\n",
       "      <th>1</th>\n",
       "      <td>75001</td>\n",
       "      <td>1/2/2018</td>\n",
       "      <td>1438</td>\n",
       "      <td>1</td>\n",
       "      <td>weekday</td>\n",
       "      <td>98</td>\n",
       "      <td>94</td>\n",
       "      <td>1</td>\n",
       "      <td>1</td>\n",
       "      <td>8</td>\n",
       "      <td>8</td>\n",
       "      <td>23</td>\n",
       "      <td>22</td>\n",
       "    </tr>\n",
       "    <tr>\n",
       "      <th>2</th>\n",
       "      <td>75001</td>\n",
       "      <td>1/3/2018</td>\n",
       "      <td>1439</td>\n",
       "      <td>2</td>\n",
       "      <td>weekday</td>\n",
       "      <td>138</td>\n",
       "      <td>139</td>\n",
       "      <td>0</td>\n",
       "      <td>0</td>\n",
       "      <td>2</td>\n",
       "      <td>2</td>\n",
       "      <td>27</td>\n",
       "      <td>27</td>\n",
       "    </tr>\n",
       "    <tr>\n",
       "      <th>3</th>\n",
       "      <td>75001</td>\n",
       "      <td>1/4/2018</td>\n",
       "      <td>1320</td>\n",
       "      <td>3</td>\n",
       "      <td>weekday</td>\n",
       "      <td>104</td>\n",
       "      <td>104</td>\n",
       "      <td>2</td>\n",
       "      <td>2</td>\n",
       "      <td>9</td>\n",
       "      <td>8</td>\n",
       "      <td>25</td>\n",
       "      <td>21</td>\n",
       "    </tr>\n",
       "    <tr>\n",
       "      <th>4</th>\n",
       "      <td>75001</td>\n",
       "      <td>1/5/2018</td>\n",
       "      <td>1440</td>\n",
       "      <td>4</td>\n",
       "      <td>weekday</td>\n",
       "      <td>114</td>\n",
       "      <td>117</td>\n",
       "      <td>3</td>\n",
       "      <td>3</td>\n",
       "      <td>6</td>\n",
       "      <td>6</td>\n",
       "      <td>18</td>\n",
       "      <td>20</td>\n",
       "    </tr>\n",
       "    <tr>\n",
       "      <th>...</th>\n",
       "      <td>...</td>\n",
       "      <td>...</td>\n",
       "      <td>...</td>\n",
       "      <td>...</td>\n",
       "      <td>...</td>\n",
       "      <td>...</td>\n",
       "      <td>...</td>\n",
       "      <td>...</td>\n",
       "      <td>...</td>\n",
       "      <td>...</td>\n",
       "      <td>...</td>\n",
       "      <td>...</td>\n",
       "      <td>...</td>\n",
       "    </tr>\n",
       "    <tr>\n",
       "      <th>16080</th>\n",
       "      <td>95880</td>\n",
       "      <td>6/15/2018</td>\n",
       "      <td>1440</td>\n",
       "      <td>4</td>\n",
       "      <td>weekday</td>\n",
       "      <td>15</td>\n",
       "      <td>10</td>\n",
       "      <td>0</td>\n",
       "      <td>0</td>\n",
       "      <td>2</td>\n",
       "      <td>3</td>\n",
       "      <td>0</td>\n",
       "      <td>0</td>\n",
       "    </tr>\n",
       "    <tr>\n",
       "      <th>16081</th>\n",
       "      <td>95880</td>\n",
       "      <td>6/16/2018</td>\n",
       "      <td>1440</td>\n",
       "      <td>5</td>\n",
       "      <td>weekend</td>\n",
       "      <td>19</td>\n",
       "      <td>19</td>\n",
       "      <td>0</td>\n",
       "      <td>0</td>\n",
       "      <td>2</td>\n",
       "      <td>1</td>\n",
       "      <td>0</td>\n",
       "      <td>0</td>\n",
       "    </tr>\n",
       "    <tr>\n",
       "      <th>16082</th>\n",
       "      <td>95880</td>\n",
       "      <td>6/17/2018</td>\n",
       "      <td>1440</td>\n",
       "      <td>6</td>\n",
       "      <td>weekend</td>\n",
       "      <td>33</td>\n",
       "      <td>35</td>\n",
       "      <td>1</td>\n",
       "      <td>1</td>\n",
       "      <td>0</td>\n",
       "      <td>0</td>\n",
       "      <td>0</td>\n",
       "      <td>0</td>\n",
       "    </tr>\n",
       "    <tr>\n",
       "      <th>16083</th>\n",
       "      <td>95880</td>\n",
       "      <td>6/18/2018</td>\n",
       "      <td>1440</td>\n",
       "      <td>0</td>\n",
       "      <td>weekday</td>\n",
       "      <td>11</td>\n",
       "      <td>14</td>\n",
       "      <td>3</td>\n",
       "      <td>5</td>\n",
       "      <td>2</td>\n",
       "      <td>2</td>\n",
       "      <td>0</td>\n",
       "      <td>0</td>\n",
       "    </tr>\n",
       "    <tr>\n",
       "      <th>16084</th>\n",
       "      <td>95880</td>\n",
       "      <td>6/19/2018</td>\n",
       "      <td>1370</td>\n",
       "      <td>1</td>\n",
       "      <td>weekday</td>\n",
       "      <td>2</td>\n",
       "      <td>2</td>\n",
       "      <td>2</td>\n",
       "      <td>1</td>\n",
       "      <td>0</td>\n",
       "      <td>0</td>\n",
       "      <td>0</td>\n",
       "      <td>0</td>\n",
       "    </tr>\n",
       "  </tbody>\n",
       "</table>\n",
       "<p>16085 rows × 13 columns</p>\n",
       "</div>"
      ],
      "text/plain": [
       "       Postal code       date  n_daily_data_points  dayOfWeek day_type  \\\n",
       "0            75001   1/1/2018                 1440          0  weekday   \n",
       "1            75001   1/2/2018                 1438          1  weekday   \n",
       "2            75001   1/3/2018                 1439          2  weekday   \n",
       "3            75001   1/4/2018                 1320          3  weekday   \n",
       "4            75001   1/5/2018                 1440          4  weekday   \n",
       "...            ...        ...                  ...        ...      ...   \n",
       "16080        95880  6/15/2018                 1440          4  weekday   \n",
       "16081        95880  6/16/2018                 1440          5  weekend   \n",
       "16082        95880  6/17/2018                 1440          6  weekend   \n",
       "16083        95880  6/18/2018                 1440          0  weekday   \n",
       "16084        95880  6/19/2018                 1370          1  weekday   \n",
       "\n",
       "       BlueCars_taken_sum  BlueCars_returned_sum  Utilib_taken_sum  \\\n",
       "0                     110                    103                 3   \n",
       "1                      98                     94                 1   \n",
       "2                     138                    139                 0   \n",
       "3                     104                    104                 2   \n",
       "4                     114                    117                 3   \n",
       "...                   ...                    ...               ...   \n",
       "16080                  15                     10                 0   \n",
       "16081                  19                     19                 0   \n",
       "16082                  33                     35                 1   \n",
       "16083                  11                     14                 3   \n",
       "16084                   2                      2                 2   \n",
       "\n",
       "       Utilib_returned_sum  Utilib_14_taken_sum  Utilib_14_returned_sum  \\\n",
       "0                        2                   10                       9   \n",
       "1                        1                    8                       8   \n",
       "2                        0                    2                       2   \n",
       "3                        2                    9                       8   \n",
       "4                        3                    6                       6   \n",
       "...                    ...                  ...                     ...   \n",
       "16080                    0                    2                       3   \n",
       "16081                    0                    2                       1   \n",
       "16082                    1                    0                       0   \n",
       "16083                    5                    2                       2   \n",
       "16084                    1                    0                       0   \n",
       "\n",
       "       Slots_freed_sum  Slots_taken_sum  \n",
       "0                   22               20  \n",
       "1                   23               22  \n",
       "2                   27               27  \n",
       "3                   25               21  \n",
       "4                   18               20  \n",
       "...                ...              ...  \n",
       "16080                0                0  \n",
       "16081                0                0  \n",
       "16082                0                0  \n",
       "16083                0                0  \n",
       "16084                0                0  \n",
       "\n",
       "[16085 rows x 13 columns]"
      ]
     },
     "execution_count": 108,
     "metadata": {},
     "output_type": "execute_result"
    }
   ],
   "source": [
    "#importing the dataset\n",
    "df = pd.read_csv('autolib_daily_events_postal_code.csv')\n",
    "df"
   ]
  },
  {
   "cell_type": "code",
   "execution_count": 109,
   "metadata": {},
   "outputs": [
    {
     "data": {
      "text/plain": [
       "array([75001, 75002, 75003, 75004, 75005, 75006, 75007, 75008, 75009,\n",
       "       75010, 75011, 75012, 75013, 75014, 75015, 75016, 75017, 75018,\n",
       "       75019, 75020, 75112, 75116, 78000, 78140, 78150, 91330, 91370,\n",
       "       91400, 92000, 92100, 92110, 92120, 92130, 92140, 92150, 92160,\n",
       "       92170, 92190, 92200, 92210, 92220, 92230, 92240, 92250, 92260,\n",
       "       92270, 92290, 92300, 92310, 92320, 92330, 92340, 92350, 92360,\n",
       "       92370, 92380, 92390, 92400, 92410, 92420, 92500, 92600, 92700,\n",
       "       92800, 93100, 93110, 93130, 93150, 93170, 93200, 93230, 93260,\n",
       "       93300, 93310, 93350, 93360, 93370, 93390, 93400, 93440, 93500,\n",
       "       93600, 93700, 93800, 94000, 94100, 94110, 94120, 94130, 94140,\n",
       "       94150, 94160, 94220, 94230, 94300, 94340, 94410, 94450, 94500,\n",
       "       94700, 94800, 95100, 95870, 95880], dtype=int64)"
      ]
     },
     "execution_count": 109,
     "metadata": {},
     "output_type": "execute_result"
    }
   ],
   "source": [
    "df['Postal code'].unique()"
   ]
  },
  {
   "cell_type": "code",
   "execution_count": 110,
   "metadata": {},
   "outputs": [
    {
     "name": "stdout",
     "output_type": "stream",
     "text": [
      "<class 'pandas.core.frame.DataFrame'>\n",
      "Int64Index: 11544 entries, 0 to 16084\n",
      "Data columns (total 13 columns):\n",
      "Postal code               11544 non-null int64\n",
      "date                      11544 non-null object\n",
      "n_daily_data_points       11544 non-null int64\n",
      "dayOfWeek                 11544 non-null int64\n",
      "day_type                  11544 non-null object\n",
      "BlueCars_taken_sum        11544 non-null int64\n",
      "BlueCars_returned_sum     11544 non-null int64\n",
      "Utilib_taken_sum          11544 non-null int64\n",
      "Utilib_returned_sum       11544 non-null int64\n",
      "Utilib_14_taken_sum       11544 non-null int64\n",
      "Utilib_14_returned_sum    11544 non-null int64\n",
      "Slots_freed_sum           11544 non-null int64\n",
      "Slots_taken_sum           11544 non-null int64\n",
      "dtypes: int64(11), object(2)\n",
      "memory usage: 1.2+ MB\n"
     ]
    }
   ],
   "source": [
    "dfweekday.info()"
   ]
  },
  {
   "cell_type": "code",
   "execution_count": 111,
   "metadata": {},
   "outputs": [
    {
     "data": {
      "text/html": [
       "<div>\n",
       "<style scoped>\n",
       "    .dataframe tbody tr th:only-of-type {\n",
       "        vertical-align: middle;\n",
       "    }\n",
       "\n",
       "    .dataframe tbody tr th {\n",
       "        vertical-align: top;\n",
       "    }\n",
       "\n",
       "    .dataframe thead th {\n",
       "        text-align: right;\n",
       "    }\n",
       "</style>\n",
       "<table border=\"1\" class=\"dataframe\">\n",
       "  <thead>\n",
       "    <tr style=\"text-align: right;\">\n",
       "      <th></th>\n",
       "      <th>Postal code</th>\n",
       "      <th>n_daily_data_points</th>\n",
       "      <th>dayOfWeek</th>\n",
       "      <th>BlueCars_taken_sum</th>\n",
       "      <th>BlueCars_returned_sum</th>\n",
       "      <th>Utilib_taken_sum</th>\n",
       "      <th>Utilib_returned_sum</th>\n",
       "      <th>Utilib_14_taken_sum</th>\n",
       "      <th>Utilib_14_returned_sum</th>\n",
       "      <th>Slots_freed_sum</th>\n",
       "      <th>Slots_taken_sum</th>\n",
       "    </tr>\n",
       "  </thead>\n",
       "  <tbody>\n",
       "    <tr>\n",
       "      <th>count</th>\n",
       "      <td>11544.000000</td>\n",
       "      <td>11544.000000</td>\n",
       "      <td>11544.000000</td>\n",
       "      <td>11544.000000</td>\n",
       "      <td>11544.000000</td>\n",
       "      <td>11544.000000</td>\n",
       "      <td>11544.000000</td>\n",
       "      <td>11544.000000</td>\n",
       "      <td>11544.000000</td>\n",
       "      <td>11544.000000</td>\n",
       "      <td>11544.000000</td>\n",
       "    </tr>\n",
       "    <tr>\n",
       "      <th>mean</th>\n",
       "      <td>88789.959286</td>\n",
       "      <td>1430.007277</td>\n",
       "      <td>1.973926</td>\n",
       "      <td>116.028673</td>\n",
       "      <td>115.639380</td>\n",
       "      <td>3.424983</td>\n",
       "      <td>3.417620</td>\n",
       "      <td>7.999047</td>\n",
       "      <td>7.975485</td>\n",
       "      <td>20.945166</td>\n",
       "      <td>20.921431</td>\n",
       "    </tr>\n",
       "    <tr>\n",
       "      <th>std</th>\n",
       "      <td>7647.995374</td>\n",
       "      <td>36.882140</td>\n",
       "      <td>1.417797</td>\n",
       "      <td>169.626905</td>\n",
       "      <td>168.344751</td>\n",
       "      <td>5.379950</td>\n",
       "      <td>5.349742</td>\n",
       "      <td>11.963164</td>\n",
       "      <td>11.882660</td>\n",
       "      <td>47.900208</td>\n",
       "      <td>47.848580</td>\n",
       "    </tr>\n",
       "    <tr>\n",
       "      <th>min</th>\n",
       "      <td>75001.000000</td>\n",
       "      <td>1174.000000</td>\n",
       "      <td>0.000000</td>\n",
       "      <td>0.000000</td>\n",
       "      <td>0.000000</td>\n",
       "      <td>0.000000</td>\n",
       "      <td>0.000000</td>\n",
       "      <td>0.000000</td>\n",
       "      <td>0.000000</td>\n",
       "      <td>0.000000</td>\n",
       "      <td>0.000000</td>\n",
       "    </tr>\n",
       "    <tr>\n",
       "      <th>25%</th>\n",
       "      <td>91330.000000</td>\n",
       "      <td>1439.000000</td>\n",
       "      <td>1.000000</td>\n",
       "      <td>18.000000</td>\n",
       "      <td>19.000000</td>\n",
       "      <td>0.000000</td>\n",
       "      <td>0.000000</td>\n",
       "      <td>1.000000</td>\n",
       "      <td>1.000000</td>\n",
       "      <td>0.000000</td>\n",
       "      <td>0.000000</td>\n",
       "    </tr>\n",
       "    <tr>\n",
       "      <th>50%</th>\n",
       "      <td>92340.000000</td>\n",
       "      <td>1440.000000</td>\n",
       "      <td>2.000000</td>\n",
       "      <td>42.000000</td>\n",
       "      <td>42.000000</td>\n",
       "      <td>1.000000</td>\n",
       "      <td>1.000000</td>\n",
       "      <td>3.000000</td>\n",
       "      <td>3.000000</td>\n",
       "      <td>0.000000</td>\n",
       "      <td>0.000000</td>\n",
       "    </tr>\n",
       "    <tr>\n",
       "      <th>75%</th>\n",
       "      <td>93400.000000</td>\n",
       "      <td>1440.000000</td>\n",
       "      <td>3.000000</td>\n",
       "      <td>126.000000</td>\n",
       "      <td>126.000000</td>\n",
       "      <td>4.000000</td>\n",
       "      <td>4.000000</td>\n",
       "      <td>9.000000</td>\n",
       "      <td>9.000000</td>\n",
       "      <td>4.000000</td>\n",
       "      <td>5.000000</td>\n",
       "    </tr>\n",
       "    <tr>\n",
       "      <th>max</th>\n",
       "      <td>95880.000000</td>\n",
       "      <td>1440.000000</td>\n",
       "      <td>4.000000</td>\n",
       "      <td>1093.000000</td>\n",
       "      <td>1056.000000</td>\n",
       "      <td>47.000000</td>\n",
       "      <td>49.000000</td>\n",
       "      <td>94.000000</td>\n",
       "      <td>94.000000</td>\n",
       "      <td>288.000000</td>\n",
       "      <td>294.000000</td>\n",
       "    </tr>\n",
       "  </tbody>\n",
       "</table>\n",
       "</div>"
      ],
      "text/plain": [
       "        Postal code  n_daily_data_points     dayOfWeek  BlueCars_taken_sum  \\\n",
       "count  11544.000000         11544.000000  11544.000000        11544.000000   \n",
       "mean   88789.959286          1430.007277      1.973926          116.028673   \n",
       "std     7647.995374            36.882140      1.417797          169.626905   \n",
       "min    75001.000000          1174.000000      0.000000            0.000000   \n",
       "25%    91330.000000          1439.000000      1.000000           18.000000   \n",
       "50%    92340.000000          1440.000000      2.000000           42.000000   \n",
       "75%    93400.000000          1440.000000      3.000000          126.000000   \n",
       "max    95880.000000          1440.000000      4.000000         1093.000000   \n",
       "\n",
       "       BlueCars_returned_sum  Utilib_taken_sum  Utilib_returned_sum  \\\n",
       "count           11544.000000      11544.000000         11544.000000   \n",
       "mean              115.639380          3.424983             3.417620   \n",
       "std               168.344751          5.379950             5.349742   \n",
       "min                 0.000000          0.000000             0.000000   \n",
       "25%                19.000000          0.000000             0.000000   \n",
       "50%                42.000000          1.000000             1.000000   \n",
       "75%               126.000000          4.000000             4.000000   \n",
       "max              1056.000000         47.000000            49.000000   \n",
       "\n",
       "       Utilib_14_taken_sum  Utilib_14_returned_sum  Slots_freed_sum  \\\n",
       "count         11544.000000            11544.000000     11544.000000   \n",
       "mean              7.999047                7.975485        20.945166   \n",
       "std              11.963164               11.882660        47.900208   \n",
       "min               0.000000                0.000000         0.000000   \n",
       "25%               1.000000                1.000000         0.000000   \n",
       "50%               3.000000                3.000000         0.000000   \n",
       "75%               9.000000                9.000000         4.000000   \n",
       "max              94.000000               94.000000       288.000000   \n",
       "\n",
       "       Slots_taken_sum  \n",
       "count     11544.000000  \n",
       "mean         20.921431  \n",
       "std          47.848580  \n",
       "min           0.000000  \n",
       "25%           0.000000  \n",
       "50%           0.000000  \n",
       "75%           5.000000  \n",
       "max         294.000000  "
      ]
     },
     "execution_count": 111,
     "metadata": {},
     "output_type": "execute_result"
    }
   ],
   "source": [
    "dfweekday.describe()"
   ]
  },
  {
   "cell_type": "code",
   "execution_count": 112,
   "metadata": {},
   "outputs": [
    {
     "data": {
      "text/plain": [
       "array(['1/1/2018', '1/2/2018', '1/3/2018', '1/4/2018', '1/5/2018',\n",
       "       '1/6/2018', '1/7/2018', '1/8/2018', '1/9/2018', '1/10/2018',\n",
       "       '1/11/2018', '1/12/2018', '1/13/2018', '1/14/2018', '1/15/2018',\n",
       "       '1/16/2018', '1/17/2018', '1/18/2018', '1/19/2018', '1/20/2018',\n",
       "       '1/21/2018', '1/22/2018', '1/23/2018', '1/24/2018', '1/25/2018',\n",
       "       '1/26/2018', '1/27/2018', '1/28/2018', '1/29/2018', '1/30/2018',\n",
       "       '1/31/2018', '2/1/2018', '2/2/2018', '2/3/2018', '2/4/2018',\n",
       "       '2/5/2018', '2/6/2018', '2/7/2018', '2/8/2018', '2/9/2018',\n",
       "       '2/10/2018', '2/11/2018', '2/12/2018', '2/13/2018', '2/14/2018',\n",
       "       '2/15/2018', '2/16/2018', '2/17/2018', '2/18/2018', '2/19/2018',\n",
       "       '2/20/2018', '2/21/2018', '2/22/2018', '2/23/2018', '2/24/2018',\n",
       "       '2/28/2018', '3/1/2018', '3/2/2018', '3/3/2018', '3/4/2018',\n",
       "       '3/5/2018', '3/6/2018', '3/7/2018', '3/8/2018', '3/9/2018',\n",
       "       '3/10/2018', '3/11/2018', '3/12/2018', '3/13/2018', '3/14/2018',\n",
       "       '3/15/2018', '3/16/2018', '3/17/2018', '3/18/2018', '3/19/2018',\n",
       "       '3/20/2018', '3/21/2018', '3/22/2018', '3/23/2018', '3/24/2018',\n",
       "       '3/25/2018', '3/26/2018', '3/27/2018', '3/28/2018', '3/29/2018',\n",
       "       '3/30/2018', '3/31/2018', '4/1/2018', '4/2/2018', '4/3/2018',\n",
       "       '4/4/2018', '4/5/2018', '4/6/2018', '4/7/2018', '4/8/2018',\n",
       "       '4/9/2018', '4/10/2018', '4/11/2018', '4/12/2018', '4/13/2018',\n",
       "       '4/14/2018', '4/15/2018', '4/16/2018', '4/17/2018', '4/18/2018',\n",
       "       '4/19/2018', '4/20/2018', '4/21/2018', '4/22/2018', '4/23/2018',\n",
       "       '4/24/2018', '4/25/2018', '4/26/2018', '4/27/2018', '4/28/2018',\n",
       "       '4/29/2018', '4/30/2018', '5/1/2018', '5/2/2018', '5/3/2018',\n",
       "       '5/4/2018', '5/5/2018', '5/6/2018', '5/7/2018', '5/8/2018',\n",
       "       '5/20/2018', '5/21/2018', '5/22/2018', '5/23/2018', '5/24/2018',\n",
       "       '5/25/2018', '5/26/2018', '5/27/2018', '5/28/2018', '5/29/2018',\n",
       "       '5/30/2018', '5/31/2018', '6/1/2018', '6/2/2018', '6/3/2018',\n",
       "       '6/4/2018', '6/5/2018', '6/6/2018', '6/7/2018', '6/8/2018',\n",
       "       '6/9/2018', '6/10/2018', '6/11/2018', '6/12/2018', '6/13/2018',\n",
       "       '6/14/2018', '6/15/2018', '6/16/2018', '6/17/2018', '6/18/2018',\n",
       "       '6/19/2018'], dtype=object)"
      ]
     },
     "execution_count": 112,
     "metadata": {},
     "output_type": "execute_result"
    }
   ],
   "source": [
    "df.date.unique()"
   ]
  },
  {
   "cell_type": "code",
   "execution_count": 113,
   "metadata": {},
   "outputs": [],
   "source": [
    "#converting the date column datatype to datetime \n",
    "df['date'] = pd.to_datetime(df['date'])"
   ]
  },
  {
   "cell_type": "code",
   "execution_count": 114,
   "metadata": {},
   "outputs": [
    {
     "data": {
      "text/plain": [
       "(2369, 13)"
      ]
     },
     "execution_count": 114,
     "metadata": {},
     "output_type": "execute_result"
    }
   ],
   "source": [
    "#creating month 1 dataframe \n",
    "january = df[(df.date >= '1/1/2018')& (df.date <= '1/31/2018') & (df.day_type == 'weekday')]\n",
    "january.shape"
   ]
  },
  {
   "cell_type": "code",
   "execution_count": 115,
   "metadata": {},
   "outputs": [
    {
     "data": {
      "text/plain": [
       "(2259, 13)"
      ]
     },
     "execution_count": 115,
     "metadata": {},
     "output_type": "execute_result"
    }
   ],
   "source": [
    "#creating month 3 dataframe\n",
    "march = df[(df.date >= '3/1/2018')& (df.date <= '3/31/2018') & (df.day_type == 'weekday')]\n",
    "march.shape"
   ]
  },
  {
   "cell_type": "code",
   "execution_count": 116,
   "metadata": {},
   "outputs": [
    {
     "name": "stderr",
     "output_type": "stream",
     "text": [
      "c:\\users\\wwamb\\appdata\\local\\programs\\python\\python37\\lib\\site-packages\\pandas\\core\\generic.py:5208: SettingWithCopyWarning: \n",
      "A value is trying to be set on a copy of a slice from a DataFrame.\n",
      "Try using .loc[row_indexer,col_indexer] = value instead\n",
      "\n",
      "See the caveats in the documentation: http://pandas.pydata.org/pandas-docs/stable/user_guide/indexing.html#returning-a-view-versus-a-copy\n",
      "  self[name] = value\n"
     ]
    }
   ],
   "source": [
    "#reconverting the date column datatype back to str\n",
    "march.date = march.date.apply(str)"
   ]
  },
  {
   "cell_type": "code",
   "execution_count": 117,
   "metadata": {},
   "outputs": [],
   "source": [
    "january.date = january.date.apply(str)"
   ]
  },
  {
   "cell_type": "code",
   "execution_count": 118,
   "metadata": {},
   "outputs": [
    {
     "data": {
      "text/plain": [
       "(1502, 13)"
      ]
     },
     "execution_count": 118,
     "metadata": {},
     "output_type": "execute_result"
    }
   ],
   "source": [
    "#removing outliers\n",
    "q1 = january.quantile(0.25)\n",
    "q3 = january.quantile(0.75)\n",
    "IQR = q3-q1\n",
    "january = january[~((january < (q1 - 1.5 * IQR)) |(january > (q3 + 1.5 * IQR))).any(axis=1)]\n",
    "january.shape"
   ]
  },
  {
   "cell_type": "code",
   "execution_count": 119,
   "metadata": {},
   "outputs": [
    {
     "data": {
      "text/plain": [
       "(1073, 13)"
      ]
     },
     "execution_count": 119,
     "metadata": {},
     "output_type": "execute_result"
    }
   ],
   "source": [
    "#removing outliers\n",
    "q1 = january.quantile(0.25)\n",
    "q3 = january.quantile(0.75)\n",
    "IQR = q3-q1\n",
    "march = march[~((march < (q1 - 1.5 * IQR)) |(march > (q3 + 1.5 * IQR))).any(axis=1)]\n",
    "march.shape"
   ]
  },
  {
   "cell_type": "code",
   "execution_count": 120,
   "metadata": {},
   "outputs": [
    {
     "data": {
      "text/plain": [
       "Postal code               0\n",
       "date                      0\n",
       "n_daily_data_points       0\n",
       "dayOfWeek                 0\n",
       "day_type                  0\n",
       "BlueCars_taken_sum        0\n",
       "BlueCars_returned_sum     0\n",
       "Utilib_taken_sum          0\n",
       "Utilib_returned_sum       0\n",
       "Utilib_14_taken_sum       0\n",
       "Utilib_14_returned_sum    0\n",
       "Slots_freed_sum           0\n",
       "Slots_taken_sum           0\n",
       "dtype: int64"
      ]
     },
     "execution_count": 120,
     "metadata": {},
     "output_type": "execute_result"
    }
   ],
   "source": [
    "#checking for null values\n",
    "march.isnull().sum()"
   ]
  },
  {
   "cell_type": "code",
   "execution_count": 121,
   "metadata": {},
   "outputs": [
    {
     "data": {
      "text/plain": [
       "Postal code               0\n",
       "date                      0\n",
       "n_daily_data_points       0\n",
       "dayOfWeek                 0\n",
       "day_type                  0\n",
       "BlueCars_taken_sum        0\n",
       "BlueCars_returned_sum     0\n",
       "Utilib_taken_sum          0\n",
       "Utilib_returned_sum       0\n",
       "Utilib_14_taken_sum       0\n",
       "Utilib_14_returned_sum    0\n",
       "Slots_freed_sum           0\n",
       "Slots_taken_sum           0\n",
       "dtype: int64"
      ]
     },
     "execution_count": 121,
     "metadata": {},
     "output_type": "execute_result"
    }
   ],
   "source": [
    "january.isnull().sum()"
   ]
  },
  {
   "cell_type": "markdown",
   "metadata": {},
   "source": [
    "## Univariate analysis"
   ]
  },
  {
   "cell_type": "code",
   "execution_count": 122,
   "metadata": {},
   "outputs": [
    {
     "data": {
      "text/plain": [
       "3    218\n",
       "4    216\n",
       "2    215\n",
       "0    215\n",
       "1    209\n",
       "Name: dayOfWeek, dtype: int64"
      ]
     },
     "execution_count": 122,
     "metadata": {},
     "output_type": "execute_result"
    }
   ],
   "source": [
    "march['dayOfWeek'].value_counts()"
   ]
  },
  {
   "cell_type": "code",
   "execution_count": 123,
   "metadata": {},
   "outputs": [
    {
     "data": {
      "text/plain": [
       "<matplotlib.axes._subplots.AxesSubplot at 0x1caee367388>"
      ]
     },
     "execution_count": 123,
     "metadata": {},
     "output_type": "execute_result"
    },
    {
     "data": {
      "image/png": "[encoded data removed]",
      "text/plain": [
       "<Figure size 432x288 with 1 Axes>"
      ]
     },
     "metadata": {
      "needs_background": "light"
     },
     "output_type": "display_data"
    }
   ],
   "source": [
    "colors = ['g','r','b','m','y']\n",
    "january.dayOfWeek.value_counts().plot.bar(color = colors)"
   ]
  },
  {
   "cell_type": "code",
   "execution_count": 124,
   "metadata": {},
   "outputs": [
    {
     "name": "stdout",
     "output_type": "stream",
     "text": [
      "<class 'pandas.core.frame.DataFrame'>\n",
      "Int64Index: 1502 entries, 3899 to 15959\n",
      "Data columns (total 13 columns):\n",
      "Postal code               1502 non-null int64\n",
      "date                      1502 non-null object\n",
      "n_daily_data_points       1502 non-null int64\n",
      "dayOfWeek                 1502 non-null int64\n",
      "day_type                  1502 non-null object\n",
      "BlueCars_taken_sum        1502 non-null int64\n",
      "BlueCars_returned_sum     1502 non-null int64\n",
      "Utilib_taken_sum          1502 non-null int64\n",
      "Utilib_returned_sum       1502 non-null int64\n",
      "Utilib_14_taken_sum       1502 non-null int64\n",
      "Utilib_14_returned_sum    1502 non-null int64\n",
      "Slots_freed_sum           1502 non-null int64\n",
      "Slots_taken_sum           1502 non-null int64\n",
      "dtypes: int64(11), object(2)\n",
      "memory usage: 164.3+ KB\n"
     ]
    }
   ],
   "source": [
    "january.info()"
   ]
  },
  {
   "cell_type": "code",
   "execution_count": 125,
   "metadata": {},
   "outputs": [
    {
     "data": {
      "text/plain": [
       "<matplotlib.axes._subplots.AxesSubplot at 0x1caee349b88>"
      ]
     },
     "execution_count": 125,
     "metadata": {},
     "output_type": "execute_result"
    },
    {
     "data": {
      "image/png": "[encoded data removed]",
      "text/plain": [
       "<Figure size 432x288 with 1 Axes>"
      ]
     },
     "metadata": {
      "needs_background": "light"
     },
     "output_type": "display_data"
    }
   ],
   "source": [
    "sns.boxplot(march['BlueCars_taken_sum'])"
   ]
  },
  {
   "cell_type": "code",
   "execution_count": 126,
   "metadata": {},
   "outputs": [
    {
     "data": {
      "text/plain": [
       "<matplotlib.axes._subplots.AxesSubplot at 0x1caee3f7188>"
      ]
     },
     "execution_count": 126,
     "metadata": {},
     "output_type": "execute_result"
    },
    {
     "data": {
      "image/png": "[encoded data removed]",
      "text/plain": [
       "<Figure size 432x288 with 1 Axes>"
      ]
     },
     "metadata": {
      "needs_background": "light"
     },
     "output_type": "display_data"
    }
   ],
   "source": [
    "sns.distplot(march['BlueCars_taken_sum'])"
   ]
  },
  {
   "cell_type": "code",
   "execution_count": 127,
   "metadata": {},
   "outputs": [
    {
     "data": {
      "text/html": [
       "<div>\n",
       "<style scoped>\n",
       "    .dataframe tbody tr th:only-of-type {\n",
       "        vertical-align: middle;\n",
       "    }\n",
       "\n",
       "    .dataframe tbody tr th {\n",
       "        vertical-align: top;\n",
       "    }\n",
       "\n",
       "    .dataframe thead th {\n",
       "        text-align: right;\n",
       "    }\n",
       "</style>\n",
       "<table border=\"1\" class=\"dataframe\">\n",
       "  <thead>\n",
       "    <tr style=\"text-align: right;\">\n",
       "      <th></th>\n",
       "      <th>Postal code</th>\n",
       "      <th>date</th>\n",
       "      <th>n_daily_data_points</th>\n",
       "      <th>dayOfWeek</th>\n",
       "      <th>day_type</th>\n",
       "      <th>BlueCars_taken_sum</th>\n",
       "      <th>BlueCars_returned_sum</th>\n",
       "      <th>Utilib_taken_sum</th>\n",
       "      <th>Utilib_returned_sum</th>\n",
       "      <th>Utilib_14_taken_sum</th>\n",
       "      <th>Utilib_14_returned_sum</th>\n",
       "      <th>Slots_freed_sum</th>\n",
       "      <th>Slots_taken_sum</th>\n",
       "    </tr>\n",
       "  </thead>\n",
       "  <tbody>\n",
       "    <tr>\n",
       "      <th>5992</th>\n",
       "      <td>92200</td>\n",
       "      <td>2018-03-12 00:00:00</td>\n",
       "      <td>1440</td>\n",
       "      <td>0</td>\n",
       "      <td>weekday</td>\n",
       "      <td>37</td>\n",
       "      <td>41</td>\n",
       "      <td>2</td>\n",
       "      <td>2</td>\n",
       "      <td>5</td>\n",
       "      <td>5</td>\n",
       "      <td>0</td>\n",
       "      <td>0</td>\n",
       "    </tr>\n",
       "    <tr>\n",
       "      <th>4756</th>\n",
       "      <td>92110</td>\n",
       "      <td>2018-03-23 00:00:00</td>\n",
       "      <td>1440</td>\n",
       "      <td>4</td>\n",
       "      <td>weekday</td>\n",
       "      <td>16</td>\n",
       "      <td>22</td>\n",
       "      <td>0</td>\n",
       "      <td>0</td>\n",
       "      <td>5</td>\n",
       "      <td>3</td>\n",
       "      <td>0</td>\n",
       "      <td>0</td>\n",
       "    </tr>\n",
       "    <tr>\n",
       "      <th>7095</th>\n",
       "      <td>92270</td>\n",
       "      <td>2018-03-23 00:00:00</td>\n",
       "      <td>1440</td>\n",
       "      <td>4</td>\n",
       "      <td>weekday</td>\n",
       "      <td>24</td>\n",
       "      <td>21</td>\n",
       "      <td>3</td>\n",
       "      <td>3</td>\n",
       "      <td>1</td>\n",
       "      <td>1</td>\n",
       "      <td>0</td>\n",
       "      <td>0</td>\n",
       "    </tr>\n",
       "    <tr>\n",
       "      <th>10348</th>\n",
       "      <td>93130</td>\n",
       "      <td>2018-03-14 00:00:00</td>\n",
       "      <td>1440</td>\n",
       "      <td>2</td>\n",
       "      <td>weekday</td>\n",
       "      <td>20</td>\n",
       "      <td>21</td>\n",
       "      <td>3</td>\n",
       "      <td>5</td>\n",
       "      <td>2</td>\n",
       "      <td>3</td>\n",
       "      <td>0</td>\n",
       "      <td>0</td>\n",
       "    </tr>\n",
       "    <tr>\n",
       "      <th>14753</th>\n",
       "      <td>94340</td>\n",
       "      <td>2018-03-16 00:00:00</td>\n",
       "      <td>1440</td>\n",
       "      <td>4</td>\n",
       "      <td>weekday</td>\n",
       "      <td>22</td>\n",
       "      <td>24</td>\n",
       "      <td>1</td>\n",
       "      <td>0</td>\n",
       "      <td>2</td>\n",
       "      <td>1</td>\n",
       "      <td>0</td>\n",
       "      <td>0</td>\n",
       "    </tr>\n",
       "  </tbody>\n",
       "</table>\n",
       "</div>"
      ],
      "text/plain": [
       "       Postal code                 date  n_daily_data_points  dayOfWeek  \\\n",
       "5992         92200  2018-03-12 00:00:00                 1440          0   \n",
       "4756         92110  2018-03-23 00:00:00                 1440          4   \n",
       "7095         92270  2018-03-23 00:00:00                 1440          4   \n",
       "10348        93130  2018-03-14 00:00:00                 1440          2   \n",
       "14753        94340  2018-03-16 00:00:00                 1440          4   \n",
       "\n",
       "      day_type  BlueCars_taken_sum  BlueCars_returned_sum  Utilib_taken_sum  \\\n",
       "5992   weekday                  37                     41                 2   \n",
       "4756   weekday                  16                     22                 0   \n",
       "7095   weekday                  24                     21                 3   \n",
       "10348  weekday                  20                     21                 3   \n",
       "14753  weekday                  22                     24                 1   \n",
       "\n",
       "       Utilib_returned_sum  Utilib_14_taken_sum  Utilib_14_returned_sum  \\\n",
       "5992                     2                    5                       5   \n",
       "4756                     0                    5                       3   \n",
       "7095                     3                    1                       1   \n",
       "10348                    5                    2                       3   \n",
       "14753                    0                    2                       1   \n",
       "\n",
       "       Slots_freed_sum  Slots_taken_sum  \n",
       "5992                 0                0  \n",
       "4756                 0                0  \n",
       "7095                 0                0  \n",
       "10348                0                0  \n",
       "14753                0                0  "
      ]
     },
     "execution_count": 127,
     "metadata": {},
     "output_type": "execute_result"
    }
   ],
   "source": [
    "#creating a sample of 30 variables\n",
    "marchsample = march.sample(n= 30)\n",
    "marchsample.head()"
   ]
  },
  {
   "cell_type": "code",
   "execution_count": 128,
   "metadata": {},
   "outputs": [
    {
     "data": {
      "text/html": [
       "<div>\n",
       "<style scoped>\n",
       "    .dataframe tbody tr th:only-of-type {\n",
       "        vertical-align: middle;\n",
       "    }\n",
       "\n",
       "    .dataframe tbody tr th {\n",
       "        vertical-align: top;\n",
       "    }\n",
       "\n",
       "    .dataframe thead th {\n",
       "        text-align: right;\n",
       "    }\n",
       "</style>\n",
       "<table border=\"1\" class=\"dataframe\">\n",
       "  <thead>\n",
       "    <tr style=\"text-align: right;\">\n",
       "      <th></th>\n",
       "      <th>Postal code</th>\n",
       "      <th>date</th>\n",
       "      <th>n_daily_data_points</th>\n",
       "      <th>dayOfWeek</th>\n",
       "      <th>day_type</th>\n",
       "      <th>BlueCars_taken_sum</th>\n",
       "      <th>BlueCars_returned_sum</th>\n",
       "      <th>Utilib_taken_sum</th>\n",
       "      <th>Utilib_returned_sum</th>\n",
       "      <th>Utilib_14_taken_sum</th>\n",
       "      <th>Utilib_14_returned_sum</th>\n",
       "      <th>Slots_freed_sum</th>\n",
       "      <th>Slots_taken_sum</th>\n",
       "    </tr>\n",
       "  </thead>\n",
       "  <tbody>\n",
       "    <tr>\n",
       "      <th>7340</th>\n",
       "      <td>92300</td>\n",
       "      <td>2018-01-12 00:00:00</td>\n",
       "      <td>1439</td>\n",
       "      <td>4</td>\n",
       "      <td>weekday</td>\n",
       "      <td>151</td>\n",
       "      <td>151</td>\n",
       "      <td>1</td>\n",
       "      <td>1</td>\n",
       "      <td>6</td>\n",
       "      <td>8</td>\n",
       "      <td>0</td>\n",
       "      <td>0</td>\n",
       "    </tr>\n",
       "    <tr>\n",
       "      <th>13278</th>\n",
       "      <td>94110</td>\n",
       "      <td>2018-01-01 00:00:00</td>\n",
       "      <td>1440</td>\n",
       "      <td>0</td>\n",
       "      <td>weekday</td>\n",
       "      <td>41</td>\n",
       "      <td>36</td>\n",
       "      <td>3</td>\n",
       "      <td>2</td>\n",
       "      <td>6</td>\n",
       "      <td>4</td>\n",
       "      <td>0</td>\n",
       "      <td>0</td>\n",
       "    </tr>\n",
       "    <tr>\n",
       "      <th>11654</th>\n",
       "      <td>93360</td>\n",
       "      <td>2018-01-08 00:00:00</td>\n",
       "      <td>1438</td>\n",
       "      <td>0</td>\n",
       "      <td>weekday</td>\n",
       "      <td>14</td>\n",
       "      <td>15</td>\n",
       "      <td>0</td>\n",
       "      <td>0</td>\n",
       "      <td>0</td>\n",
       "      <td>1</td>\n",
       "      <td>0</td>\n",
       "      <td>0</td>\n",
       "    </tr>\n",
       "    <tr>\n",
       "      <th>15625</th>\n",
       "      <td>95100</td>\n",
       "      <td>2018-01-09 00:00:00</td>\n",
       "      <td>1439</td>\n",
       "      <td>1</td>\n",
       "      <td>weekday</td>\n",
       "      <td>15</td>\n",
       "      <td>12</td>\n",
       "      <td>1</td>\n",
       "      <td>0</td>\n",
       "      <td>0</td>\n",
       "      <td>0</td>\n",
       "      <td>0</td>\n",
       "      <td>0</td>\n",
       "    </tr>\n",
       "    <tr>\n",
       "      <th>4990</th>\n",
       "      <td>92130</td>\n",
       "      <td>2018-01-02 00:00:00</td>\n",
       "      <td>1438</td>\n",
       "      <td>1</td>\n",
       "      <td>weekday</td>\n",
       "      <td>222</td>\n",
       "      <td>213</td>\n",
       "      <td>9</td>\n",
       "      <td>6</td>\n",
       "      <td>16</td>\n",
       "      <td>17</td>\n",
       "      <td>1</td>\n",
       "      <td>1</td>\n",
       "    </tr>\n",
       "  </tbody>\n",
       "</table>\n",
       "</div>"
      ],
      "text/plain": [
       "       Postal code                 date  n_daily_data_points  dayOfWeek  \\\n",
       "7340         92300  2018-01-12 00:00:00                 1439          4   \n",
       "13278        94110  2018-01-01 00:00:00                 1440          0   \n",
       "11654        93360  2018-01-08 00:00:00                 1438          0   \n",
       "15625        95100  2018-01-09 00:00:00                 1439          1   \n",
       "4990         92130  2018-01-02 00:00:00                 1438          1   \n",
       "\n",
       "      day_type  BlueCars_taken_sum  BlueCars_returned_sum  Utilib_taken_sum  \\\n",
       "7340   weekday                 151                    151                 1   \n",
       "13278  weekday                  41                     36                 3   \n",
       "11654  weekday                  14                     15                 0   \n",
       "15625  weekday                  15                     12                 1   \n",
       "4990   weekday                 222                    213                 9   \n",
       "\n",
       "       Utilib_returned_sum  Utilib_14_taken_sum  Utilib_14_returned_sum  \\\n",
       "7340                     1                    6                       8   \n",
       "13278                    2                    6                       4   \n",
       "11654                    0                    0                       1   \n",
       "15625                    0                    0                       0   \n",
       "4990                     6                   16                      17   \n",
       "\n",
       "       Slots_freed_sum  Slots_taken_sum  \n",
       "7340                 0                0  \n",
       "13278                0                0  \n",
       "11654                0                0  \n",
       "15625                0                0  \n",
       "4990                 1                1  "
      ]
     },
     "execution_count": 128,
     "metadata": {},
     "output_type": "execute_result"
    }
   ],
   "source": [
    "jansample = january.sample(n=30)\n",
    "jansample.head()"
   ]
  },
  {
   "cell_type": "code",
   "execution_count": 129,
   "metadata": {},
   "outputs": [
    {
     "data": {
      "text/html": [
       "<div>\n",
       "<style scoped>\n",
       "    .dataframe tbody tr th:only-of-type {\n",
       "        vertical-align: middle;\n",
       "    }\n",
       "\n",
       "    .dataframe tbody tr th {\n",
       "        vertical-align: top;\n",
       "    }\n",
       "\n",
       "    .dataframe thead th {\n",
       "        text-align: right;\n",
       "    }\n",
       "</style>\n",
       "<table border=\"1\" class=\"dataframe\">\n",
       "  <thead>\n",
       "    <tr style=\"text-align: right;\">\n",
       "      <th></th>\n",
       "      <th>Postal code</th>\n",
       "      <th>n_daily_data_points</th>\n",
       "      <th>dayOfWeek</th>\n",
       "      <th>BlueCars_taken_sum</th>\n",
       "      <th>BlueCars_returned_sum</th>\n",
       "      <th>Utilib_taken_sum</th>\n",
       "      <th>Utilib_returned_sum</th>\n",
       "      <th>Utilib_14_taken_sum</th>\n",
       "      <th>Utilib_14_returned_sum</th>\n",
       "      <th>Slots_freed_sum</th>\n",
       "      <th>Slots_taken_sum</th>\n",
       "    </tr>\n",
       "  </thead>\n",
       "  <tbody>\n",
       "    <tr>\n",
       "      <th>count</th>\n",
       "      <td>30.000000</td>\n",
       "      <td>30.000000</td>\n",
       "      <td>30.000000</td>\n",
       "      <td>30.000000</td>\n",
       "      <td>30.000000</td>\n",
       "      <td>30.000000</td>\n",
       "      <td>30.000000</td>\n",
       "      <td>30.000000</td>\n",
       "      <td>30.000000</td>\n",
       "      <td>30.000000</td>\n",
       "      <td>30.000000</td>\n",
       "    </tr>\n",
       "    <tr>\n",
       "      <th>mean</th>\n",
       "      <td>93409.000000</td>\n",
       "      <td>1439.200000</td>\n",
       "      <td>1.666667</td>\n",
       "      <td>42.566667</td>\n",
       "      <td>42.633333</td>\n",
       "      <td>1.100000</td>\n",
       "      <td>1.066667</td>\n",
       "      <td>2.600000</td>\n",
       "      <td>2.933333</td>\n",
       "      <td>0.300000</td>\n",
       "      <td>0.300000</td>\n",
       "    </tr>\n",
       "    <tr>\n",
       "      <th>std</th>\n",
       "      <td>1269.288017</td>\n",
       "      <td>0.886683</td>\n",
       "      <td>1.372974</td>\n",
       "      <td>49.763360</td>\n",
       "      <td>48.941544</td>\n",
       "      <td>1.844844</td>\n",
       "      <td>1.574218</td>\n",
       "      <td>3.179677</td>\n",
       "      <td>3.571278</td>\n",
       "      <td>0.794377</td>\n",
       "      <td>0.794377</td>\n",
       "    </tr>\n",
       "    <tr>\n",
       "      <th>min</th>\n",
       "      <td>91330.000000</td>\n",
       "      <td>1437.000000</td>\n",
       "      <td>0.000000</td>\n",
       "      <td>4.000000</td>\n",
       "      <td>1.000000</td>\n",
       "      <td>0.000000</td>\n",
       "      <td>0.000000</td>\n",
       "      <td>0.000000</td>\n",
       "      <td>0.000000</td>\n",
       "      <td>0.000000</td>\n",
       "      <td>0.000000</td>\n",
       "    </tr>\n",
       "    <tr>\n",
       "      <th>25%</th>\n",
       "      <td>92277.500000</td>\n",
       "      <td>1439.000000</td>\n",
       "      <td>1.000000</td>\n",
       "      <td>14.250000</td>\n",
       "      <td>14.250000</td>\n",
       "      <td>0.000000</td>\n",
       "      <td>0.000000</td>\n",
       "      <td>1.000000</td>\n",
       "      <td>1.000000</td>\n",
       "      <td>0.000000</td>\n",
       "      <td>0.000000</td>\n",
       "    </tr>\n",
       "    <tr>\n",
       "      <th>50%</th>\n",
       "      <td>93335.000000</td>\n",
       "      <td>1439.000000</td>\n",
       "      <td>1.500000</td>\n",
       "      <td>25.500000</td>\n",
       "      <td>28.000000</td>\n",
       "      <td>1.000000</td>\n",
       "      <td>0.500000</td>\n",
       "      <td>1.000000</td>\n",
       "      <td>2.000000</td>\n",
       "      <td>0.000000</td>\n",
       "      <td>0.000000</td>\n",
       "    </tr>\n",
       "    <tr>\n",
       "      <th>75%</th>\n",
       "      <td>94150.000000</td>\n",
       "      <td>1440.000000</td>\n",
       "      <td>2.000000</td>\n",
       "      <td>42.500000</td>\n",
       "      <td>42.500000</td>\n",
       "      <td>1.000000</td>\n",
       "      <td>1.000000</td>\n",
       "      <td>4.000000</td>\n",
       "      <td>4.000000</td>\n",
       "      <td>0.000000</td>\n",
       "      <td>0.000000</td>\n",
       "    </tr>\n",
       "    <tr>\n",
       "      <th>max</th>\n",
       "      <td>95880.000000</td>\n",
       "      <td>1440.000000</td>\n",
       "      <td>4.000000</td>\n",
       "      <td>222.000000</td>\n",
       "      <td>213.000000</td>\n",
       "      <td>9.000000</td>\n",
       "      <td>6.000000</td>\n",
       "      <td>16.000000</td>\n",
       "      <td>17.000000</td>\n",
       "      <td>3.000000</td>\n",
       "      <td>3.000000</td>\n",
       "    </tr>\n",
       "  </tbody>\n",
       "</table>\n",
       "</div>"
      ],
      "text/plain": [
       "        Postal code  n_daily_data_points  dayOfWeek  BlueCars_taken_sum  \\\n",
       "count     30.000000            30.000000  30.000000           30.000000   \n",
       "mean   93409.000000          1439.200000   1.666667           42.566667   \n",
       "std     1269.288017             0.886683   1.372974           49.763360   \n",
       "min    91330.000000          1437.000000   0.000000            4.000000   \n",
       "25%    92277.500000          1439.000000   1.000000           14.250000   \n",
       "50%    93335.000000          1439.000000   1.500000           25.500000   \n",
       "75%    94150.000000          1440.000000   2.000000           42.500000   \n",
       "max    95880.000000          1440.000000   4.000000          222.000000   \n",
       "\n",
       "       BlueCars_returned_sum  Utilib_taken_sum  Utilib_returned_sum  \\\n",
       "count              30.000000         30.000000            30.000000   \n",
       "mean               42.633333          1.100000             1.066667   \n",
       "std                48.941544          1.844844             1.574218   \n",
       "min                 1.000000          0.000000             0.000000   \n",
       "25%                14.250000          0.000000             0.000000   \n",
       "50%                28.000000          1.000000             0.500000   \n",
       "75%                42.500000          1.000000             1.000000   \n",
       "max               213.000000          9.000000             6.000000   \n",
       "\n",
       "       Utilib_14_taken_sum  Utilib_14_returned_sum  Slots_freed_sum  \\\n",
       "count            30.000000               30.000000        30.000000   \n",
       "mean              2.600000                2.933333         0.300000   \n",
       "std               3.179677                3.571278         0.794377   \n",
       "min               0.000000                0.000000         0.000000   \n",
       "25%               1.000000                1.000000         0.000000   \n",
       "50%               1.000000                2.000000         0.000000   \n",
       "75%               4.000000                4.000000         0.000000   \n",
       "max              16.000000               17.000000         3.000000   \n",
       "\n",
       "       Slots_taken_sum  \n",
       "count        30.000000  \n",
       "mean          0.300000  \n",
       "std           0.794377  \n",
       "min           0.000000  \n",
       "25%           0.000000  \n",
       "50%           0.000000  \n",
       "75%           0.000000  \n",
       "max           3.000000  "
      ]
     },
     "execution_count": 129,
     "metadata": {},
     "output_type": "execute_result"
    }
   ],
   "source": [
    "jansample.describe()"
   ]
  },
  {
   "cell_type": "code",
   "execution_count": 130,
   "metadata": {},
   "outputs": [
    {
     "data": {
      "text/html": [
       "<div>\n",
       "<style scoped>\n",
       "    .dataframe tbody tr th:only-of-type {\n",
       "        vertical-align: middle;\n",
       "    }\n",
       "\n",
       "    .dataframe tbody tr th {\n",
       "        vertical-align: top;\n",
       "    }\n",
       "\n",
       "    .dataframe thead th {\n",
       "        text-align: right;\n",
       "    }\n",
       "</style>\n",
       "<table border=\"1\" class=\"dataframe\">\n",
       "  <thead>\n",
       "    <tr style=\"text-align: right;\">\n",
       "      <th></th>\n",
       "      <th>Postal code</th>\n",
       "      <th>n_daily_data_points</th>\n",
       "      <th>dayOfWeek</th>\n",
       "      <th>BlueCars_taken_sum</th>\n",
       "      <th>BlueCars_returned_sum</th>\n",
       "      <th>Utilib_taken_sum</th>\n",
       "      <th>Utilib_returned_sum</th>\n",
       "      <th>Utilib_14_taken_sum</th>\n",
       "      <th>Utilib_14_returned_sum</th>\n",
       "      <th>Slots_freed_sum</th>\n",
       "      <th>Slots_taken_sum</th>\n",
       "    </tr>\n",
       "  </thead>\n",
       "  <tbody>\n",
       "    <tr>\n",
       "      <th>count</th>\n",
       "      <td>30.000000</td>\n",
       "      <td>30.000000</td>\n",
       "      <td>30.000000</td>\n",
       "      <td>30.000000</td>\n",
       "      <td>30.000000</td>\n",
       "      <td>30.000000</td>\n",
       "      <td>30.000000</td>\n",
       "      <td>30.000000</td>\n",
       "      <td>30.000000</td>\n",
       "      <td>30.0</td>\n",
       "      <td>30.0</td>\n",
       "    </tr>\n",
       "    <tr>\n",
       "      <th>mean</th>\n",
       "      <td>93177.333333</td>\n",
       "      <td>1439.900000</td>\n",
       "      <td>2.633333</td>\n",
       "      <td>29.533333</td>\n",
       "      <td>29.300000</td>\n",
       "      <td>1.100000</td>\n",
       "      <td>1.133333</td>\n",
       "      <td>2.333333</td>\n",
       "      <td>2.166667</td>\n",
       "      <td>0.0</td>\n",
       "      <td>0.0</td>\n",
       "    </tr>\n",
       "    <tr>\n",
       "      <th>std</th>\n",
       "      <td>981.768051</td>\n",
       "      <td>0.305129</td>\n",
       "      <td>1.449931</td>\n",
       "      <td>26.725596</td>\n",
       "      <td>24.094856</td>\n",
       "      <td>1.295882</td>\n",
       "      <td>1.407696</td>\n",
       "      <td>2.309401</td>\n",
       "      <td>1.984132</td>\n",
       "      <td>0.0</td>\n",
       "      <td>0.0</td>\n",
       "    </tr>\n",
       "    <tr>\n",
       "      <th>min</th>\n",
       "      <td>91370.000000</td>\n",
       "      <td>1439.000000</td>\n",
       "      <td>0.000000</td>\n",
       "      <td>1.000000</td>\n",
       "      <td>3.000000</td>\n",
       "      <td>0.000000</td>\n",
       "      <td>0.000000</td>\n",
       "      <td>0.000000</td>\n",
       "      <td>0.000000</td>\n",
       "      <td>0.0</td>\n",
       "      <td>0.0</td>\n",
       "    </tr>\n",
       "    <tr>\n",
       "      <th>25%</th>\n",
       "      <td>92280.000000</td>\n",
       "      <td>1440.000000</td>\n",
       "      <td>1.250000</td>\n",
       "      <td>13.000000</td>\n",
       "      <td>13.250000</td>\n",
       "      <td>0.000000</td>\n",
       "      <td>0.000000</td>\n",
       "      <td>1.000000</td>\n",
       "      <td>1.000000</td>\n",
       "      <td>0.0</td>\n",
       "      <td>0.0</td>\n",
       "    </tr>\n",
       "    <tr>\n",
       "      <th>50%</th>\n",
       "      <td>93310.000000</td>\n",
       "      <td>1440.000000</td>\n",
       "      <td>3.000000</td>\n",
       "      <td>18.000000</td>\n",
       "      <td>19.500000</td>\n",
       "      <td>0.500000</td>\n",
       "      <td>0.000000</td>\n",
       "      <td>2.000000</td>\n",
       "      <td>2.000000</td>\n",
       "      <td>0.0</td>\n",
       "      <td>0.0</td>\n",
       "    </tr>\n",
       "    <tr>\n",
       "      <th>75%</th>\n",
       "      <td>93750.000000</td>\n",
       "      <td>1440.000000</td>\n",
       "      <td>4.000000</td>\n",
       "      <td>38.500000</td>\n",
       "      <td>40.000000</td>\n",
       "      <td>2.000000</td>\n",
       "      <td>2.000000</td>\n",
       "      <td>3.750000</td>\n",
       "      <td>3.000000</td>\n",
       "      <td>0.0</td>\n",
       "      <td>0.0</td>\n",
       "    </tr>\n",
       "    <tr>\n",
       "      <th>max</th>\n",
       "      <td>95880.000000</td>\n",
       "      <td>1440.000000</td>\n",
       "      <td>4.000000</td>\n",
       "      <td>100.000000</td>\n",
       "      <td>89.000000</td>\n",
       "      <td>4.000000</td>\n",
       "      <td>5.000000</td>\n",
       "      <td>10.000000</td>\n",
       "      <td>8.000000</td>\n",
       "      <td>0.0</td>\n",
       "      <td>0.0</td>\n",
       "    </tr>\n",
       "  </tbody>\n",
       "</table>\n",
       "</div>"
      ],
      "text/plain": [
       "        Postal code  n_daily_data_points  dayOfWeek  BlueCars_taken_sum  \\\n",
       "count     30.000000            30.000000  30.000000           30.000000   \n",
       "mean   93177.333333          1439.900000   2.633333           29.533333   \n",
       "std      981.768051             0.305129   1.449931           26.725596   \n",
       "min    91370.000000          1439.000000   0.000000            1.000000   \n",
       "25%    92280.000000          1440.000000   1.250000           13.000000   \n",
       "50%    93310.000000          1440.000000   3.000000           18.000000   \n",
       "75%    93750.000000          1440.000000   4.000000           38.500000   \n",
       "max    95880.000000          1440.000000   4.000000          100.000000   \n",
       "\n",
       "       BlueCars_returned_sum  Utilib_taken_sum  Utilib_returned_sum  \\\n",
       "count              30.000000         30.000000            30.000000   \n",
       "mean               29.300000          1.100000             1.133333   \n",
       "std                24.094856          1.295882             1.407696   \n",
       "min                 3.000000          0.000000             0.000000   \n",
       "25%                13.250000          0.000000             0.000000   \n",
       "50%                19.500000          0.500000             0.000000   \n",
       "75%                40.000000          2.000000             2.000000   \n",
       "max                89.000000          4.000000             5.000000   \n",
       "\n",
       "       Utilib_14_taken_sum  Utilib_14_returned_sum  Slots_freed_sum  \\\n",
       "count            30.000000               30.000000             30.0   \n",
       "mean              2.333333                2.166667              0.0   \n",
       "std               2.309401                1.984132              0.0   \n",
       "min               0.000000                0.000000              0.0   \n",
       "25%               1.000000                1.000000              0.0   \n",
       "50%               2.000000                2.000000              0.0   \n",
       "75%               3.750000                3.000000              0.0   \n",
       "max              10.000000                8.000000              0.0   \n",
       "\n",
       "       Slots_taken_sum  \n",
       "count             30.0  \n",
       "mean               0.0  \n",
       "std                0.0  \n",
       "min                0.0  \n",
       "25%                0.0  \n",
       "50%                0.0  \n",
       "75%                0.0  \n",
       "max                0.0  "
      ]
     },
     "execution_count": 130,
     "metadata": {},
     "output_type": "execute_result"
    }
   ],
   "source": [
    "marchsample.describe()"
   ]
  },
  {
   "cell_type": "code",
   "execution_count": 131,
   "metadata": {},
   "outputs": [
    {
     "data": {
      "text/plain": [
       "<matplotlib.axes._subplots.AxesSubplot at 0x1caee636888>"
      ]
     },
     "execution_count": 131,
     "metadata": {},
     "output_type": "execute_result"
    },
    {
     "data": {
      "image/png": "[encoded data removed]",
      "text/plain": [
       "<Figure size 432x288 with 1 Axes>"
      ]
     },
     "metadata": {
      "needs_background": "light"
     },
     "output_type": "display_data"
    }
   ],
   "source": [
    "sns.distplot(jansample['BlueCars_taken_sum'])"
   ]
  },
  {
   "cell_type": "code",
   "execution_count": 132,
   "metadata": {},
   "outputs": [
    {
     "data": {
      "text/plain": [
       "<matplotlib.axes._subplots.AxesSubplot at 0x1caee6baa48>"
      ]
     },
     "execution_count": 132,
     "metadata": {},
     "output_type": "execute_result"
    },
    {
     "data": {
      "image/png": "[encoded data removed]",
      "text/plain": [
       "<Figure size 432x288 with 1 Axes>"
      ]
     },
     "metadata": {
      "needs_background": "light"
     },
     "output_type": "display_data"
    }
   ],
   "source": [
    "sns.distplot(marchsample['BlueCars_taken_sum'])"
   ]
  },
  {
   "cell_type": "markdown",
   "metadata": {},
   "source": [
    "## Bivariate analysis"
   ]
  },
  {
   "cell_type": "code",
   "execution_count": 133,
   "metadata": {},
   "outputs": [
    {
     "data": {
      "text/plain": [
       "<matplotlib.axes._subplots.AxesSubplot at 0x1caee70c748>"
      ]
     },
     "execution_count": 133,
     "metadata": {},
     "output_type": "execute_result"
    },
    {
     "data": {
      "image/png": "[encoded data removed]",
      "text/plain": [
       "<Figure size 432x288 with 1 Axes>"
      ]
     },
     "metadata": {
      "needs_background": "light"
     },
     "output_type": "display_data"
    }
   ],
   "source": [
    "x = jansample.BlueCars_taken_sum\n",
    "y = jansample['Postal code']\n",
    "sns.scatterplot(x,y,hue = x)"
   ]
  },
  {
   "cell_type": "code",
   "execution_count": 134,
   "metadata": {},
   "outputs": [
    {
     "data": {
      "text/plain": [
       "<matplotlib.axes._subplots.AxesSubplot at 0x1caee7b4188>"
      ]
     },
     "execution_count": 134,
     "metadata": {},
     "output_type": "execute_result"
    },
    {
     "data": {
      "image/png": "[encoded data removed]",
      "text/plain": [
       "<Figure size 432x288 with 1 Axes>"
      ]
     },
     "metadata": {
      "needs_background": "light"
     },
     "output_type": "display_data"
    }
   ],
   "source": [
    "r = marchsample.BlueCars_taken_sum\n",
    "v = marchsample['Postal code']\n",
    "sns.scatterplot(r,v,hue = r)"
   ]
  },
  {
   "cell_type": "markdown",
   "metadata": {},
   "source": [
    "## Hypothesis testing"
   ]
  },
  {
   "cell_type": "code",
   "execution_count": 135,
   "metadata": {},
   "outputs": [
    {
     "data": {
      "text/plain": [
       "-0.340789942073946"
      ]
     },
     "execution_count": 135,
     "metadata": {},
     "output_type": "execute_result"
    }
   ],
   "source": [
    "#calculating the t test\n",
    "deviation = (marchsample['BlueCars_taken_sum'].std() + jansample['BlueCars_taken_sum'].std())/2\n",
    "\n",
    "tstat = (marchsample['BlueCars_taken_sum'].mean() - jansample['BlueCars_taken_sum'].mean())/deviation\n",
    "tstat"
   ]
  },
  {
   "cell_type": "code",
   "execution_count": 136,
   "metadata": {},
   "outputs": [
    {
     "data": {
      "text/plain": [
       "0.632753448549394"
      ]
     },
     "execution_count": 136,
     "metadata": {},
     "output_type": "execute_result"
    }
   ],
   "source": [
    "#calculating the p value\n",
    "df = (2*30) -2\n",
    "p = 1 - stats.t.cdf(tstat,df = df)\n",
    "p"
   ]
  },
  {
   "cell_type": "code",
   "execution_count": null,
   "metadata": {},
   "outputs": [],
   "source": []
  },
  {
   "cell_type": "code",
   "execution_count": null,
   "metadata": {},
   "outputs": [],
   "source": []
  }
 ],
 "metadata": {
  "kernelspec": {
   "display_name": "Python 3",
   "language": "python",
   "name": "python3"
  },
  "language_info": {
   "codemirror_mode": {
    "name": "ipython",
    "version": 3
   },
   "file_extension": ".py",
   "mimetype": "text/x-python",
   "name": "python",
   "nbconvert_exporter": "python",
   "pygments_lexer": "ipython3",
   "version": "3.7.4"
  }
 },
 "nbformat": 4,
 "nbformat_minor": 2
}
